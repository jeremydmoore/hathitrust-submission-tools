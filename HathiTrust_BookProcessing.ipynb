{
 "cells": [
  {
   "cell_type": "markdown",
   "metadata": {},
   "source": [
    "# HathiTrust Book Processing\n",
    "\n",
    "This notebook contains a HathiTrust_Volume class to process a digitized item ready that has passed quality control and is ready for ingest into the HathiTrust\n",
    "\n",
    "Tasks:\n",
    "1. Rename directory for HathiTrust\n",
    "2. Rename images and remediate file extensions for HathiTrust\n",
    "3. Clean up folder for ingest\n",
    "4. Verify bitonal images"
   ]
  },
  {
   "cell_type": "code",
   "execution_count": 1,
   "metadata": {
    "code_folding": []
   },
   "outputs": [
    {
     "data": {
      "text/html": [
       "<style>.container { width:95% !important; }</style>"
      ],
      "text/plain": [
       "<IPython.core.display.HTML object>"
      ]
     },
     "metadata": {},
     "output_type": "display_data"
    }
   ],
   "source": [
    "# importing and options\n",
    "import shutil\n",
    "from pathlib import Path\n",
    "\n",
    "%matplotlib notebook\n",
    "import matplotlib.pyplot as plt\n",
    "import numpy as np\n",
    "from PIL import Image\n",
    "\n",
    "# == display 95% width\n",
    "from IPython.core.display import display, HTML\n",
    "display(HTML(\"<style>.container { width:95% !important; }</style>\"))"
   ]
  },
  {
   "cell_type": "code",
   "execution_count": 2,
   "metadata": {
    "code_folding": [
     1
    ]
   },
   "outputs": [],
   "source": [
    "# functions\n",
    "def get_formatted_extension(from_extension, remediate=False):\n",
    "    '''\n",
    "    -- Purpose --\n",
    "    Returns an extension that:\n",
    "    1. has a period in the front\n",
    "    2. Optional: is lower-case\n",
    "    3. Optional: return jpeg as jpg and tiff as tif\n",
    "\n",
    "    -- Arguments --\n",
    "    from_extension: type=string; file extension with or without a '.'\n",
    "\n",
    "    -- Returns --\n",
    "    formatted_extension: type=string; formatted extension\n",
    "    '''\n",
    "    # make sure there's a period at the front of the extension\n",
    "    if from_extension.startswith('.'):  # do nothing\n",
    "        formatted_extension = from_extension\n",
    "    else:  # add a period\n",
    "        formatted_extension = f'.{from_extension}'\n",
    "\n",
    "    # make it lower-case\n",
    "    if remediate:\n",
    "        formatted_extension = formatted_extension.lower()\n",
    "        # hard-coded alterations for jpeg and tiff\n",
    "        if formatted_extension == '.jpeg':\n",
    "            formatted_extension = '.jpg'\n",
    "        elif formatted_extension == '.tiff':\n",
    "            formatted_extension = '.tif'\n",
    "\n",
    "    return formatted_extension"
   ]
  },
  {
   "cell_type": "code",
   "execution_count": 3,
   "metadata": {
    "code_folding": [
     5,
     9,
     31,
     40,
     67,
     88
    ]
   },
   "outputs": [],
   "source": [
    "# classes\n",
    "class HathiTrust_Volume:\n",
    "    \n",
    "    '''Common base class for all Hathi Trust Volumes'''\n",
    "    \n",
    "    def __init__(self, directory, object_id):\n",
    "        self.directory_path = Path(directory)\n",
    "        self.object_id = object_id\n",
    "        \n",
    "    def backup_volume(self):\n",
    "        '''\n",
    "        -- Purpose --\n",
    "        Copy all files in directory to backup directory with name: <directory>_backup\n",
    "\n",
    "        -- Arguments --\n",
    "        None\n",
    "\n",
    "        -- Returns --\n",
    "        backup_directory_path: type=Path-like object; returns absolute path to backup directory\n",
    "        '''\n",
    "        backup_directory_name = f'{self.directory_path.name}_backup'\n",
    "        backup_directory_path = self.directory_path.parents[0].joinpath(backup_directory_name)\n",
    "\n",
    "        if backup_directory_path.exists():  # shutil.copytree requires directory to NOT exist\n",
    "            shutil.rmtree(backup_directory_path)\n",
    "\n",
    "        shutil.copytree(self.directory_path, backup_directory_path)\n",
    "\n",
    "        if backup_directory_path.exists():\n",
    "            return backup_directory_path.resolve()\n",
    "        \n",
    "    def get_file_paths(self, with_extension):\n",
    "        \n",
    "        # get formatted extension and return sorted list of file paths that match\n",
    "        formatted_extension = get_formatted_extension(with_extension)\n",
    "        \n",
    "        file_paths_list = sorted(self.directory_path.glob(f'*{formatted_extension}'))\n",
    "        \n",
    "        return file_paths_list\n",
    "        \n",
    "    def rename_directory(self):\n",
    "        '''\n",
    "        -- Purpose --\n",
    "        Rename {self.directory_path} to match {self.object_id}\n",
    "        \n",
    "        -- Arguments --\n",
    "        None\n",
    "        \n",
    "        -- Returns --\n",
    "        book: type=class object; HathiTrust_Volume as book at {new_directory_path}\n",
    "        '''\n",
    "        \n",
    "        # backup directory before proceeding\n",
    "        # backup_directory_path = self.backup_volume()\n",
    "        \n",
    "        # set new directory path with the object_id then rename\n",
    "        new_directory_path = self.directory_path.parents[0].joinpath(self.object_id)\n",
    "        try:\n",
    "            self.directory_path.replace(new_directory_path)\n",
    "        except OSError:\n",
    "            print(f'{new_directory_path} already exists and was not replaced')\n",
    "        \n",
    "        # return HathiTrust_Volume as new book\n",
    "        book = HathiTrust_Volume(new_directory_path, self.object_id)\n",
    "        \n",
    "        return book\n",
    "    \n",
    "    def rename_images(self, with_extension):\n",
    "        '''\n",
    "        -- Purpose --\n",
    "        Rename images {with_extension} to an 8-digit zeropadded remediated filename\n",
    "        '''\n",
    "        formatted_extension = get_formatted_extension(with_extension)\n",
    "        \n",
    "        remediated_extension = get_formatted_extension(with_extension, remediate=True)\n",
    "        \n",
    "        new_directory_path = self.directory_path.parents[0].joinpath(self.object_id)\n",
    "        \n",
    "        backup_directory_path = self.backup_volume()\n",
    "        \n",
    "        file_paths_list = self.get_file_paths(formatted_extension)\n",
    "        number_of_images = len(file_paths_list)\n",
    "        \n",
    "        for index, file_path in enumerate(file_paths_list, start=1):\n",
    "            new_image_name = f'{str(index).zfill(8)}{remediated_extension}'\n",
    "            new_file_path = file_path.parents[0].joinpath(new_image_name)\n",
    "            file_path.rename(new_file_path)\n",
    "        \n",
    "    def report(self):\n",
    "        '''\n",
    "        Reports back with known list of errors and remediation suggestions\n",
    "        '''\n",
    "        \n",
    "        print('Report assumes you are starting with a directory of TIFFs that have not been converted for HathiTrust yet')\n",
    "        \n",
    "        error_count = 0\n",
    "        error_list = []\n",
    "        \n",
    "        # verify directory name is the object_id\n",
    "        if self.directory_path.name != str(self.object_id):\n",
    "            error_count += 1\n",
    "            error_list.append('! Must Redmediate: Directory name and object ID do NOT match')\n",
    "            error_list.append('------ Remediate with: book = book.rename_directory() then re-run book.report()')\n",
    "        \n",
    "        # check if .tiff is an extension\n",
    "        extensions_list = set([x.suffix for x in self.directory_path.iterdir() if x.is_file()])\n",
    "        \n",
    "        if '.tiff' in extensions_list:\n",
    "            error_count += 1\n",
    "            error_list.append('! Must Remediate: Images have extension .tiff')\n",
    "            error_list.append('------ Remediate with: book.rename_images(\".tiff\") then re-run book.report()')\n",
    "        \n",
    "        # verify image names\n",
    "        image_paths_list = self.get_file_paths('.tif')\n",
    "        \n",
    "        number_of_images = len(image_paths_list)\n",
    "        if number_of_images == 0:\n",
    "            error_count += 1\n",
    "            error_list.append('!!! FATAL ERROR: No *.tif files to process')\n",
    "            error_list.append(f'Check your directory with: !open {self.directory_path}')\n",
    "        else:\n",
    "            number_of_naming_errors = 0\n",
    "    \n",
    "            # check that first image is correctly named 8-digit, zeropadded 1.tif\n",
    "            if image_paths_list[0].name != '00000001.tif':\n",
    "                error_count += 1\n",
    "                error_list.append(f'! Must Remediate: image_paths_list[0].name is NOT 00000001.tif')\n",
    "                error_list.append('------ Remediate with: book.rename_images(\".tif\") then re-run book.report()')\n",
    "            # check that each .tif image is correctly numbered starting with 1\n",
    "            else:\n",
    "                for number in range(number_of_images):\n",
    "            \n",
    "                    # create name and path to test against image_path\n",
    "                    name_to_test = f'str(number + 1).zfill(8).tif'  # add 1 to number for filename\n",
    "                    path_to_test = self.directory_path.joinpath(name_to_test)\n",
    "                    \n",
    "                    image_path = image_paths_list[number]\n",
    "                \n",
    "                    if path_to_test != image_path:  # sorted list of filenames is incorrect, but file may still exist\n",
    "                        if not path_to_test.is_file():\n",
    "                            number_of_naming_errors += 1\n",
    "                        else:\n",
    "                            naming_error = f'A naming error exists, investigate manually'\n",
    "        \n",
    "        print(f'There are {error_count} errors')\n",
    "        if error_count > 0:\n",
    "            print('------ Remediate errors in the order that they appear below')\n",
    "            for line in error_list:\n",
    "                print(line)\n",
    "        else:\n",
    "            print(f'Continue to process images')\n",
    "        \n",
    "        "
   ]
  },
  {
   "cell_type": "code",
   "execution_count": 4,
   "metadata": {},
   "outputs": [],
   "source": [
    "# Technical Metadata\n",
    "\n",
    "# individual object and institution info to verify\n",
    "object_id = 'papers-andrew-v1-test'\n",
    "scanner_user = 'University of Tennessee: John C. Hodges Library'  # Wrong\n",
    "scanning_order = 'left-to-right'\n",
    "reading_order = 'left-to-right'\n",
    "\n",
    "# capture info to verify\n",
    "capture_date = '2019-01-01T12:00:00-5:00'  # Wrong\n",
    "scanner_make = 'Fujitsu'  # WRONG\n",
    "scanner_model = '6670-fi'  # WRONG\n",
    "\n",
    "# processing info to verify\n",
    "bitonal_resolution_dpi = 600  # HathiTrust min bitonal dpi: 600\n",
    "contone_resolution_dpi = 300  # HathiTrust min contone dpi: 300\n",
    "image_compression_date = '2019-02-12T12:00:00-5:00'  # Wrong\n",
    "image_compression_agent = 'utk'  # HathiTrust organization code  Wrong\n",
    "image_compression_tool: ['Pillow v.5.4.1']  # Assumes use of Python/Pillow for compression, check version number"
   ]
  },
  {
   "cell_type": "code",
   "execution_count": 31,
   "metadata": {},
   "outputs": [],
   "source": [
    "# HathiTrust page-level metadata\n",
    "\n",
    "# How to capture page-level metadata?"
   ]
  },
  {
   "cell_type": "code",
   "execution_count": 16,
   "metadata": {},
   "outputs": [],
   "source": [
    "book_path = Path('data/PapersOfAndrewJackson/01_tif/papers-andrew-v1-test')\n",
    "book = HathiTrust_Volume(book_path, object_id)"
   ]
  },
  {
   "cell_type": "code",
   "execution_count": 17,
   "metadata": {},
   "outputs": [
    {
     "name": "stdout",
     "output_type": "stream",
     "text": [
      "Report assumes you are starting with a directory of TIFFs that have not been converted for HathiTrust yet\n",
      "There are 0 errors\n",
      "Continue to process images\n"
     ]
    }
   ],
   "source": [
    "book.report()"
   ]
  },
  {
   "cell_type": "code",
   "execution_count": 8,
   "metadata": {},
   "outputs": [],
   "source": [
    "book = book.rename_directory()"
   ]
  },
  {
   "cell_type": "code",
   "execution_count": 9,
   "metadata": {},
   "outputs": [
    {
     "name": "stdout",
     "output_type": "stream",
     "text": [
      "Report assumes you are starting with a directory of TIFFs that have not been converted for HathiTrust yet\n",
      "There are 2 errors\n",
      "------ Remediate errors in the order that they appear below\n",
      "! Must Remediate: Images have extension .tiff\n",
      "------ Remediate with: book.rename_images(\".tiff\") then re-run book.report()\n",
      "!!! FATAL ERROR: No *.tif files to process\n",
      "Check your directory with: !open data/PapersOfAndrewJackson/01_tif/papers-andrew-v1-test\n"
     ]
    }
   ],
   "source": [
    "book.report()"
   ]
  },
  {
   "cell_type": "code",
   "execution_count": 12,
   "metadata": {},
   "outputs": [],
   "source": [
    "book = book.rename_images(\".tiff\")"
   ]
  },
  {
   "cell_type": "code",
   "execution_count": 13,
   "metadata": {},
   "outputs": [
    {
     "ename": "AttributeError",
     "evalue": "'NoneType' object has no attribute 'report'",
     "output_type": "error",
     "traceback": [
      "\u001b[0;31m---------------------------------------------------------------------------\u001b[0m",
      "\u001b[0;31mAttributeError\u001b[0m                            Traceback (most recent call last)",
      "\u001b[0;32m<ipython-input-13-4a2fcd834d2d>\u001b[0m in \u001b[0;36m<module>\u001b[0;34m\u001b[0m\n\u001b[0;32m----> 1\u001b[0;31m \u001b[0mbook\u001b[0m\u001b[0;34m.\u001b[0m\u001b[0mreport\u001b[0m\u001b[0;34m(\u001b[0m\u001b[0;34m)\u001b[0m\u001b[0;34m\u001b[0m\u001b[0;34m\u001b[0m\u001b[0m\n\u001b[0m",
      "\u001b[0;31mAttributeError\u001b[0m: 'NoneType' object has no attribute 'report'"
     ]
    }
   ],
   "source": [
    "book.report()"
   ]
  },
  {
   "cell_type": "code",
   "execution_count": 18,
   "metadata": {},
   "outputs": [],
   "source": [
    "# can I get the necessary metadata I need from Pillow for HathiTrust?\n",
    "\n",
    "# split images at: bitonal/contone is bitspersample -> 1/1+\n",
    "# bitonal: format -> TIFF\n",
    "# bitonal: photometric_interpretation -> 0\n",
    "# bitonal: x_ and y_ resolution -> 600\n",
    "# bitonal: compression -> Group4\n",
    "# if bitonal passes add to OCR list\n",
    "# if bitonal doens't pass -> remediate\n",
    "# contone: format -> JPEG2000\n",
    "# contone: compression -> Kakadu Part 1 Lossy\n",
    "# contone: bit depth -> 8\n",
    "# contone: colorspace sRGB *NOTE: icc not embedded"
   ]
  },
  {
   "cell_type": "code",
   "execution_count": 19,
   "metadata": {},
   "outputs": [
    {
     "data": {
      "text/plain": [
       "574"
      ]
     },
     "execution_count": 19,
     "metadata": {},
     "output_type": "execute_result"
    }
   ],
   "source": [
    "image_paths_list = book.get_file_paths('.tif')\n",
    "len(image_paths_list)"
   ]
  },
  {
   "cell_type": "code",
   "execution_count": 28,
   "metadata": {
    "scrolled": true
   },
   "outputs": [],
   "source": [
    "bitonal_image_paths_list = []\n",
    "contone_image_paths_list = []\n",
    "\n",
    "for image_path in image_paths_list:\n",
    "    image = Image.open(image_path)\n",
    "    bits_per_sample = image.tag_v2[258]\n",
    "    if bits_per_sample == (8, 8, 8):  # image is 24-bit rgb\n",
    "        contone_image_paths_list.append(image_path)\n",
    "    elif bits_per_sample == (8, ):  # image is 8-bit grayscale\n",
    "        contone_image_paths_list.append(image_path)\n",
    "    else:  # image should be bitonal\n",
    "        bitonal_image_paths.append(image_path)"
   ]
  },
  {
   "cell_type": "code",
   "execution_count": 30,
   "metadata": {},
   "outputs": [
    {
     "data": {
      "text/plain": [
       "[PosixPath('data/PapersOfAndrewJackson/01_tif/papers-andrew-v1-test/00000001.tif'),\n",
       " PosixPath('data/PapersOfAndrewJackson/01_tif/papers-andrew-v1-test/00000002.tif'),\n",
       " PosixPath('data/PapersOfAndrewJackson/01_tif/papers-andrew-v1-test/00000003.tif'),\n",
       " PosixPath('data/PapersOfAndrewJackson/01_tif/papers-andrew-v1-test/00000004.tif')]"
      ]
     },
     "execution_count": 30,
     "metadata": {},
     "output_type": "execute_result"
    }
   ],
   "source": [
    "contone_image_paths_list[:4]"
   ]
  },
  {
   "cell_type": "code",
   "execution_count": null,
   "metadata": {},
   "outputs": [],
   "source": []
  }
 ],
 "metadata": {
  "kernelspec": {
   "display_name": "Python 3",
   "language": "python",
   "name": "python3"
  },
  "language_info": {
   "codemirror_mode": {
    "name": "ipython",
    "version": 3
   },
   "file_extension": ".py",
   "mimetype": "text/x-python",
   "name": "python",
   "nbconvert_exporter": "python",
   "pygments_lexer": "ipython3",
   "version": "3.7.3"
  },
  "toc": {
   "base_numbering": 1,
   "nav_menu": {},
   "number_sections": true,
   "sideBar": true,
   "skip_h1_title": false,
   "title_cell": "Table of Contents",
   "title_sidebar": "Contents",
   "toc_cell": false,
   "toc_position": {},
   "toc_section_display": true,
   "toc_window_display": false
  }
 },
 "nbformat": 4,
 "nbformat_minor": 2
}
