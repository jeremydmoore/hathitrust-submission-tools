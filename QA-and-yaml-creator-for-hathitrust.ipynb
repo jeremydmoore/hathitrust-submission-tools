{
 "cells": [
  {
   "cell_type": "markdown",
   "metadata": {},
   "source": [
    "## Quality Assurance and YAML Creator for Hathi Trust\n",
    "2018, Jeremy D Moore\n",
    "\n",
    "This notebook is used for quality assurance of images and create a YAML file in accordance with Hathi Trust's standards.\n",
    "\n",
    "Access date 2018-12-05:\n",
    "https://www.hathitrust.org/deposit_guidelines\n",
    "\n",
    "Hathi Trust guidelines in Google Docs linked from above:\n",
    "https://docs.google.com/document/d/1OQ0SKAiOH8Xi0HVVxg4TryBrPUPtdv4qA70d8ghRltU/view\n",
    "\n",
    "meta.yml.example.txt linked from above guidelines in Google Docs: https://drive.google.com/file/d/0B0EHs5JWGUMLWjU2OHVhQzN5WEk/view\n",
    "\n",
    "(Note: Jeremy downloaded copies of the above to his Google Drive for reference)"
   ]
  },
  {
   "cell_type": "markdown",
   "metadata": {},
   "source": [
    "## Content\n",
    "\n",
    "From HathiTrust Cloud Validation and Packaging Service (referenced as \"guidelines above\")\n",
    "\n",
    "Item: 1 book or serial\n",
    "- Each item must be in a .zip named with the Object ID\n",
    "  - zip contents should be flat\n",
    "- checksum.md5\n",
    "- meta.yml\n",
    "\n",
    "Per page\n",
    " - 1 image named with sequential 8-digit filename\n",
    "      - ex: 00000001.tif or 00000001.jp2\n",
    "      - bitonal specs\n",
    "        - File: TIFF\n",
    "        - Compression: Group4\n",
    "        - PPI: 600\n",
    "        - Bit Depth: 1\n",
    "        - Photometric Interpretation: WhiteIsZero\n",
    "      - continuous tone specs\n",
    "        - File: JPEG2000\n",
    "        - Compression: Kakadu Part 1 lossy\n",
    "        - PPI: 300\n",
    "        - Bit Depth: 8\n",
    "        - Color Space: sRGB (but NO embedded profile!)\n",
    "        - Decomposition Levels: b/w 5 & 32\n",
    " - 1 OCR plain text UTF-8 with same stem as image file\n",
    "   - ex: 00000001.txt\n",
    " - 1 hOCR location file with same stem as image file\n",
    "   - .xml or .html\n",
    "   - ex: 00000001.html"
   ]
  },
  {
   "cell_type": "markdown",
   "metadata": {},
   "source": [
    "## meta.yml File Creation\n",
    "\n",
    "Necessary information:\n",
    "- object ID\n",
    "  - used as the .zip file's name\n",
    "  - added to each image's metadata as DocumentName / dc:source\n",
    "- capture date\n",
    "  - approximate date and time the volume scanned\n",
    "  - used for the PREMIS capture event\n",
    "  - \"ModifyDate TIFF header\" that I can't find\n",
    "    - add link to spec\n",
    "  - XMP tiff:DateTime metadata\n",
    "    - add link to spec\n",
    "  - Must be in ISO8601 combined date format with time zone\n",
    "  - ex: 2013-11-01T12:31:00-05:00\n",
    "- scanner make\n",
    "  - XMP tiff:Make metadata\n",
    "    - add link to spec\n",
    "- scanner model\n",
    "  - XMP tiff:Model metadata\n",
    "    - add link to spec\n",
    "- scanner user\n",
    "  - \"It should reflect 'who pushed the button' to actually scan the item. This could be an organizational unit or an outside vendor.\" -- meta.yml.example.txt\n",
    "  - TIFF Artist\n",
    "    - https://www.awaresystems.be/imaging/tiff/tifftags/artist.html\n",
    "  - XMP tiff:Artist\n",
    "    - add link to spec\n",
    "- bitonal resolution dpi\n",
    "  - 600+\n",
    "- contone resolution dpi\n",
    "  - 300+\n",
    "- image compression date\n",
    "  - \"If images were compressed, converted, or normalized before SIP generation, these values should be supplied.\" -- meta.yml.example.txt\n",
    "  - date must be in ISO8601 format as above capture date\n",
    "- image compression agent\n",
    "  - HathiTrust organization code\n",
    "- image compression tool\n",
    "  - \"The tools should list the software tool names and versions.\" -- meta.yml.example.txt\n",
    "- scanning_order\n",
    "  - left-to-right\n",
    "- reading order\n",
    "  - left-to-right\n",
    "- pagedata\n",
    "  - Possible page tags:\n",
    "    - BACK_COVER\n",
    "    - BLANK\n",
    "    - CHAPTER_PAGE\n",
    "    - CHAPTER_START\n",
    "       - also used for beginning of each appendix\n",
    "    - COPYRIGHT\n",
    "    - FIRST_CONTENT_CHAPTER_START\n",
    "    - FOLDOUT\n",
    "    - FRONT_COVER\n",
    "    - IMAGE_ON_PAGE\n",
    "    - INDEX\n",
    "    - MULTIWORK_BOUNDARY\n",
    "    - PREFACE\n",
    "    - REFERENCES\n",
    "    - TABLE_OF_CONTENTS\n",
    "    - TITLE\n",
    "    - TITLE_PARTS\n",
    "   - order label is the page number and the label is the page tag\n",
    "   - multiple page tags should be comma-separated"
   ]
  },
  {
   "cell_type": "raw",
   "metadata": {},
   "source": [
    "# Example meta.yml output:\n",
    "\n",
    "capture_date: 2018-12-13T12:11:00-6:00  # NOT accurate\n",
    "scanner_make: ILCE-7RM2\n",
    "scanner_model: Sony\n",
    "scanner_user: \"Texas State University: Digital & Web Services\"\n",
    "bitonal_resolution_dpi: 600\n",
    "contone_resolution_dpi: 300\n",
    "image_compression_date: 2018-12-13T15:11:00-6:00  # NOT accurate\n",
    "image_compression_agent: tsi  # organization code registered with HathiTrust\n",
    "image_compression_tool: [\"Pillow v.5.3.0\"]\n",
    "scanning_order: left-to-right\n",
    "reading_order: left-to-right\n",
    "\n",
    "pagedate:\n",
    "  00000001.jp2:  { label: \"FRONT_COVER\" }\n",
    "  00000003.tif:  { orderlabel: \"i\", label: \"TITLE\" }\n",
    "  00000004.tif:  { orderlabel: \"ii\", label: \"COPYRIGHT\" }\n",
    "  00000009.tif:  { orderlabel: \"vii\", label: \"TABLE_OF_CONTENTS\" }"
   ]
  },
  {
   "cell_type": "markdown",
   "metadata": {},
   "source": [
    "# 1. Load Imports & Options"
   ]
  },
  {
   "cell_type": "code",
   "execution_count": 5,
   "metadata": {
    "code_folding": []
   },
   "outputs": [
    {
     "data": {
      "text/html": [
       "<style>.container { width:90% !important; }</style>"
      ],
      "text/plain": [
       "<IPython.core.display.HTML object>"
      ]
     },
     "metadata": {},
     "output_type": "display_data"
    }
   ],
   "source": [
    "# Imports & Options\n",
    "%matplotlib inline\n",
    "\n",
    "# built-in\n",
    "import logging\n",
    "import shutil\n",
    "import sys\n",
    "from pathlib import Path\n",
    "\n",
    "# 3rd party\n",
    "from ipywidgets import IntProgress, Label, VBox\n",
    "from IPython.display import display\n",
    "import matplotlib.pyplot as plt\n",
    "import numpy as np\n",
    "import pandas as pd\n",
    "from PIL import Image\n",
    "\n",
    "# local imports\n",
    "import img_qc.exiftool as exiftool\n",
    "\n",
    "# parameters for matplotlib to increase our default figure size -- NOTE: figure sizes are in INCHES\n",
    "plt.rcParams[\"figure.figsize\"] = (12,12)  # set as needed for your screen and eyes\n",
    "\n",
    "# on a high-dpi monitor this will increase the quality of plots on-screen\n",
    "%config InlineBackend.figure_format = 'retina'\n",
    "\n",
    "# set max_colwidth for a wider column so data isn't truncated\n",
    "pd.set_option('display.max_colwidth', -1)  # won't truncate output such as Path names\n",
    "\n",
    "# set Logging Configuration with current level at INFO\n",
    "logging.basicConfig(format='%(message)s', level=logging.INFO, stream=sys.stdout)\n",
    "\n",
    "# == display 90% width\n",
    "from IPython.core.display import display, HTML\n",
    "display(HTML(\"<style>.container { width:90% !important; }</style>\"))"
   ]
  },
  {
   "cell_type": "markdown",
   "metadata": {},
   "source": [
    "# 2. Load Functions"
   ]
  },
  {
   "cell_type": "code",
   "execution_count": 6,
   "metadata": {
    "code_folding": [
     2,
     116,
     179
    ]
   },
   "outputs": [],
   "source": [
    "# Functions\n",
    "\n",
    "def print_logging_error(error_text_as_list):\n",
    "    '''\n",
    "    Spits out logging error\n",
    "    '''\n",
    "    logging.error('')\n",
    "    logging.error(f'*****************START*ERROR***START*ERROR*********************')\n",
    "    logging.error('')\n",
    "    for line in error_text_as_list:\n",
    "        logging.error(line)\n",
    "    logging.error('')\n",
    "    logging.error(f'*******************END*ERROR***END*ERROR***********************')\n",
    "    logging.error('')\n",
    "    return\n",
    "\n",
    "\n",
    "def check_hathitrust_image_filenames(image_directory, image_extension):\n",
    "    '''\n",
    "    Check that directory name is the object_id\n",
    "    Make sure image filenames start @ 00000001.tif and go up to len(image_paths_list)\n",
    "    '''\n",
    "    image_directory_path = Path(image_directory)\n",
    "    \n",
    "    if not image_directory_path.is_dir():\n",
    "        print_logging_error([f'Problem: {image_directory_path.name} does NOT exist!',\n",
    "                             f'Remediation: check image_directory Path and re-run'\n",
    "                            ]\n",
    "                           )\n",
    "        return\n",
    "    \n",
    "    wrong_directory_name = False\n",
    "    \n",
    "    if image_directory_path.name != str(object_id):  # cast object_id as str because we are using barcodes\n",
    "        wrong_directory_name = True\n",
    "        error_text_as_list = [f'Problem: image_directory name \"{image_directory_path.name}\" does NOT match object_id \"{object_id}\"',\n",
    "                              f'Remediation: Rename directory & contents with \"image_directory = rename_hathitrust_directory_before_ocr(image_directory, object_id)\"'\n",
    "                             ]\n",
    "        print_logging_error(error_text_as_list)\n",
    "        \n",
    "    image_paths_list = sorted(image_directory_path.glob('*' + image_extension))\n",
    "    number_of_images = len(image_paths_list)\n",
    "    if number_of_images == 0:\n",
    "        #error_text_as_list = [f'image_directory \"{image_directory_path.name}\" contains 0 \"{image_extension}\"',\n",
    "        #                      f'No images to process'\n",
    "        #                     ]\n",
    "        print_logging_error([f'Problem: image_directory \"{image_directory_path.name}\" contains 0 \"{image_extension}\"',\n",
    "                            f'Remediation: Change image_directory to path with images'\n",
    "                            ]\n",
    "                           )\n",
    "        return\n",
    "        \n",
    "    \n",
    "    logging.info(f'Directory: {image_directory}')\n",
    "    logging.info(f'Number of {image_extension}: {number_of_images}')\n",
    "    logging.info(f'First filename: {image_paths_list[0].name}')\n",
    "    logging.info(f'Last filename: {image_paths_list[-1].name}')\n",
    "    \n",
    "    # progress bar\n",
    "    label = f'Checking for existence of images in {image_directory_path.name}'\n",
    "    progress_label = Label(label)\n",
    "    progress_bar = IntProgress(min=0, max=number_of_images)\n",
    "    progress_widget = VBox([progress_label, progress_bar])\n",
    "    display(progress_widget)\n",
    "    \n",
    "    number_of_naming_errors = 0\n",
    "\n",
    "    # check that each possible files is correctly numbered starting with 1\n",
    "    for number in range(number_of_images):\n",
    "        \n",
    "        # create name and path to test against image_path\n",
    "        name_to_test = str(number + 1).zfill(8) + image_extension  # add 1 to number for filename\n",
    "        \n",
    "        # set Progress Bar label\n",
    "        label = f'Checking for existence of \"{name_to_test}\"'\n",
    "        progress_label.value = label\n",
    "        \n",
    "        path_to_test = image_directory_path.joinpath(name_to_test)\n",
    "        image_path = image_paths_list[number]\n",
    "        \n",
    "        if path_to_test != image_path:  # sorted list of filenames is incorrect, but file may still exist\n",
    "            if not path_to_test.is_file():\n",
    "                number_of_naming_errors += 1\n",
    "            else:\n",
    "                logging.critical(f'{name_to_test} exists, but does not match {image_path.name} -- investigate manually')\n",
    "                return \n",
    "            \n",
    "        # update progress bar\n",
    "        progress_bar.value = number + 1  # add 1 to number so we count when the image is done\n",
    "    \n",
    "    if number_of_naming_errors > 0:\n",
    "        logging.error(f'*** {image_directory_path.name} is NOT named for HathiTrust ***')\n",
    "        if number_of_naming_errors == number_of_images:\n",
    "            print_logging_error\n",
    "            logging.error('')\n",
    "            logging.error(f'*****************START*ERROR***START*ERROR*********************')\n",
    "            logging.error(f'Number of images ({number_of_images}) equals total number of naming errors ({number_of_naming_errors})')\n",
    "            logging.error('Try renaming by running \"rename_hathitrust_directory_before_ocr(image_directory, image_extension)\"')\n",
    "            logging.error(f'*******************END*ERROR***END*ERROR***********************')\n",
    "            logging.error('')\n",
    "            return\n",
    "        else:\n",
    "            logging.error('')\n",
    "            logging.error(f'*****************START*ERROR***START*ERROR*********************')\n",
    "            logging.error(f'There were {number_of_naming_errors} naming errors in {number_of_images} {image_extension} filenames -- investigate manually')\n",
    "            logging.error(f'*******************END*ERROR***END*ERROR***********************')\n",
    "            logging.error('')\n",
    "            return\n",
    "        \n",
    "    if wrong_directory_name:\n",
    "        logging.info(f'All {number_of_images} {image_extension} filenames SUCCESSFULLY checked BUT Image Directory Name is WRONG') \n",
    "    else:\n",
    "        logging.info(f'All {number_of_images} {image_extension} filenames SUCCESSFULLY checked') \n",
    "    return\n",
    "\n",
    "\n",
    "def get_formatted_extension(from_extension, remediate=False):\n",
    "    \"\"\"-- Purpose --\n",
    "    Return an extension that:\n",
    "    1. has a period in the front\n",
    "    2. Optional: is lower-case\n",
    "    3. Optional: return jpeg as jpg and tiff as tif\n",
    "    \n",
    "    -- Arguments --\n",
    "    from_extension: file extension with or without a '.'\n",
    "    \n",
    "    -- Returns --\n",
    "    formatted_extension: type=string; formatted extension\"\"\"\n",
    "    \n",
    "    # make sure there's a period at the front of the extension\n",
    "    if from_extension.startswith('.'):\n",
    "        \n",
    "        # do nothing\n",
    "        formatted_extension = from_extension\n",
    "        \n",
    "    else:  # add a period\n",
    "        formatted_extension = ('.' + from_extension)\n",
    "    \n",
    "    # make it lower-case\n",
    "    if remediate:\n",
    "        formatted_extension = formatted_extension.lower()\n",
    "        # alter jpeg and tiff\n",
    "        if formatted_extension == '.jpeg':\n",
    "            formatted_extension = '.jpg'\n",
    "        elif formatted_extension == '.tiff':\n",
    "            formatted_extension = '.tif'\n",
    "\n",
    "    return formatted_extension\n",
    "    \n",
    "    \n",
    "def get_images_df(image_directory, image_extension):\n",
    "    \"\"\"--- Purpose ---\n",
    "    1. Get metadata for all files with image_extension in image_directory with ExifTool (including sub-folders)\n",
    "    2. Return dataframe for further analysis\n",
    "    \n",
    "    --- Arguments ---\n",
    "    image_directory: root directory to start looking for images with image_extension\n",
    "    image_extension: image extension to search in image_directory for\n",
    "    \n",
    "    --- Return ---\n",
    "    images_dataframe: pandas dataframe including all images with image_extension\"\"\"\n",
    "    \n",
    "    \n",
    "    image_directory_path = Path(image_directory)\n",
    "    \n",
    "    image_paths_list = list(image_directory_path.glob('**/*' + image_extension))\n",
    "    \n",
    "    image_paths_strings_list = sorted([str(x) for x in image_paths_list])  # need list of strings, not Path objects\n",
    "    \n",
    "    # get metadata using pyexiftool    \n",
    "    with exiftool.ExifTool() as et:\n",
    "        exiftool_metadata = et.get_metadata_batch(image_paths_strings_list)\n",
    "    \n",
    "    # convert exiftool metadata into pandas DataFrame\n",
    "    images_df = pd.DataFrame(exiftool_metadata)\n",
    "    \n",
    "    return images_df\n",
    "\n",
    "\n",
    "def rename_hathitrust_volume_before_ocr(image_directory, image_extension):\n",
    "    \n",
    "    # get total number of and the image paths for images to rename\n",
    "    image_directory_path = Path(image_directory)\n",
    "    image_paths_list = sorted(image_directory_path.glob('*' + image_extension))\n",
    "    number_of_images = len(image_paths_list)\n",
    "    \n",
    "    # backup image_directory before renaming\n",
    "    backup_directory_name = image_directory_path.name + '_backup'\n",
    "    backup_directory_path = image_directory_path.parents[0].joinpath(backup_directory_name)\n",
    "    \n",
    "    if backup_directory_path.exists():  # shutil.copytree below requires target directory NOT exist\n",
    "        shutil.rmtree(backup_directory_path)\n",
    "        \n",
    "    shutil.copytree(image_directory_path, backup_directory_path)\n",
    "    \n",
    "    if backup_directory_path.exists():\n",
    "        logging.info(f'Backup image directory created at {backup_directory_path}')\n",
    "        \n",
    "    # create new directory with correct object_id\n",
    "    if Path(image_directory).name != str(object_id):\n",
    "        object_id_directory_path = Path(image_directory).parents[0].joinpath(str(object_id))\n",
    "        try: \n",
    "            object_id_directory_path.mkdir()\n",
    "        except FileExistsError:\n",
    "            logging.warning('')\n",
    "            logging.warning(f'*****')\n",
    "            logging.warning(f'Warning: {object_id_directory_path} already exists, will rename files in place')\n",
    "            object_id_directory_path = image_directory_path\n",
    "            logging.warning(f'*****')\n",
    "            logging.warning('')\n",
    "            \n",
    "    else:\n",
    "        object_id_directory_path = image_directory_path\n",
    "    \n",
    "    logging.info(f'Renaming {number_of_images} {image_extension} images in {image_directory} for HathiTrust')\n",
    "    image_extension_original = image_extension\n",
    "    image_extension = get_formatted_extension(image_extension, remediate=True)\n",
    "    if image_extension != image_extension_original:\n",
    "        logging.info(f'Remediation necessary: {image_extension_original} -> {image_extension}')    \n",
    "    logging.info(f'Images will be renamed 00000001.extension - {str(number_of_images).zfill(8) + image_extension}')\n",
    "    \n",
    "    # rename images\n",
    "    for number in range(number_of_images):\n",
    "        \n",
    "        image_path_to_rename = image_paths_list[number]\n",
    "        \n",
    "        new_image_name = str(number + 1).zfill(8) + image_extension  # add 1 to number for filename\n",
    "        new_image_path = object_id_directory_path.joinpath(new_image_name)\n",
    "        \n",
    "        image_path_to_rename.rename(new_image_path)\n",
    "        \n",
    "    logging.info('')\n",
    "    logging.info('Checking renamed files with \"check_hathitrust_image_filenames(image_directory, image_extension)\"')\n",
    "    check_hathitrust_image_filenames(object_id_directory_path, image_extension)\n",
    "    \n",
    "    \n",
    "    # DELETE EMPTY DIRECTORY AFTER RENAMING\n",
    "    if len(list(image_directory_path.iterdir())) == 0:\n",
    "        image_directory_path.rmdir()\n",
    "    \n",
    "    logging.info('')\n",
    "    logging.info(f\"INFO: the new 'imaging_directory' to continue processing this volume is located at {object_id_directory_path}\")\n",
    "    \n",
    "    # return new object_id directory to be used as image_directory\n",
    "    # and the image_extension used to rename\n",
    "    return str(object_id_directory_path), image_extension"
   ]
  },
  {
   "cell_type": "code",
   "execution_count": 7,
   "metadata": {},
   "outputs": [
    {
     "data": {
      "text/plain": [
       "('.TIFF', '.tif')"
      ]
     },
     "execution_count": 7,
     "metadata": {},
     "output_type": "execute_result"
    }
   ],
   "source": [
    "exten1 = get_formatted_extension('TIFF')\n",
    "exten2 = get_formatted_extension('TIFF', remediate=True)\n",
    "\n",
    "exten1, exten2"
   ]
  },
  {
   "cell_type": "markdown",
   "metadata": {},
   "source": [
    "# 3. Update Technical Metadata"
   ]
  },
  {
   "cell_type": "code",
   "execution_count": 8,
   "metadata": {
    "code_folding": []
   },
   "outputs": [],
   "source": [
    "# Technical Metadata\n",
    "\n",
    "# individual object and institution info to verify\n",
    "object_id = '000000000001'  # we are using the barcode, but doing testing with Reavis_Without_Documents\n",
    "scanner_user = 'University of Tennessee: John C. Hodges Library'  # Wrong\n",
    "scanning_order = 'left-to-right'\n",
    "reading_order = 'left-to-right'\n",
    "\n",
    "# capture info to verify\n",
    "capture_date = '2019-01-01T12:00:00-5:00'  # Wrong\n",
    "scanner_make = 'Fujitsu'  # WRONG\n",
    "scanner_model = '6670-fi'  # WRONG\n",
    "\n",
    "# processing info to verify\n",
    "bitonal_resolution_dpi = 600  # HathiTrust min bitonal dpi: 600\n",
    "contone_resolution_dpi = 300  # HathiTrust min contone dpi: 300\n",
    "image_compression_date = '2019-02-12T12:00:00-5:00'  # Wrong\n",
    "image_compression_agent = 'utk'  # HathiTrust organization code\n",
    "image_compression_tool: ['Pillow v.5.4.1']  # Assumes use of Python/Pillow for compression, check version number"
   ]
  },
  {
   "cell_type": "markdown",
   "metadata": {},
   "source": [
    "# 4. Update Directory Path"
   ]
  },
  {
   "cell_type": "code",
   "execution_count": 11,
   "metadata": {},
   "outputs": [],
   "source": [
    "# image_directory = 'data/PapersOfAndrewJackson/01_tif/PapersOfAndrewJackson_v1'\n",
    "image_directory = 'data/Reavis_Without_Documents/'"
   ]
  },
  {
   "cell_type": "markdown",
   "metadata": {},
   "source": [
    "# 5. Check Directory and Image Names"
   ]
  },
  {
   "cell_type": "code",
   "execution_count": 12,
   "metadata": {
    "code_folding": []
   },
   "outputs": [
    {
     "name": "stdout",
     "output_type": "stream",
     "text": [
      "\n",
      "*****************START*ERROR***START*ERROR*********************\n",
      "\n",
      "Problem: image_directory name \"Reavis_Without_Documents\" does NOT match object_id \"000000000001\"\n",
      "Remediation: Rename directory & contents with \"image_directory = rename_hathitrust_directory_before_ocr(image_directory, object_id)\"\n",
      "\n",
      "*******************END*ERROR***END*ERROR***********************\n",
      "\n",
      "Directory: data/Reavis_Without_Documents/\n",
      "Number of .tif: 300\n",
      "First filename: Reavis_Without_Documents_0001.tif\n",
      "Last filename: Reavis_Without_Documents_0300.tif\n"
     ]
    },
    {
     "data": {
      "application/vnd.jupyter.widget-view+json": {
       "model_id": "7fffba5ae8d44602a1ca0529378a5a0a",
       "version_major": 2,
       "version_minor": 0
      },
      "text/plain": [
       "VBox(children=(Label(value='Checking for existence of images in Reavis_Without_Documents'), IntProgress(value=…"
      ]
     },
     "metadata": {},
     "output_type": "display_data"
    },
    {
     "name": "stdout",
     "output_type": "stream",
     "text": [
      "*** Reavis_Without_Documents is NOT named for HathiTrust ***\n",
      "\n",
      "*****************START*ERROR***START*ERROR*********************\n",
      "Number of images (300) equals total number of naming errors (300)\n",
      "Try renaming by running \"rename_hathitrust_directory_before_ocr(image_directory, image_extension)\"\n",
      "*******************END*ERROR***END*ERROR***********************\n",
      "\n"
     ]
    }
   ],
   "source": [
    "# check directory and image names\n",
    "\n",
    "image_extension = get_formatted_extension('tif')  # only works with TIFF directories right now\n",
    "\n",
    "check_hathitrust_image_filenames(image_directory, image_extension)"
   ]
  },
  {
   "cell_type": "markdown",
   "metadata": {},
   "source": [
    "# 5a. Rename Images for HathiTrust"
   ]
  },
  {
   "cell_type": "code",
   "execution_count": 13,
   "metadata": {},
   "outputs": [
    {
     "name": "stdout",
     "output_type": "stream",
     "text": [
      "Backup image directory created at data/Reavis_Without_Documents_backup\n",
      "Renaming 300 .tif images in data/Reavis_Without_Documents/ for HathiTrust\n",
      "Images will be renamed 00000001.extension - 00000300.tif\n",
      "\n",
      "Checking renamed files with \"check_hathitrust_image_filenames(image_directory, image_extension)\"\n",
      "Directory: data/000000000001\n",
      "Number of .tif: 300\n",
      "First filename: 00000001.tif\n",
      "Last filename: 00000300.tif\n"
     ]
    },
    {
     "data": {
      "application/vnd.jupyter.widget-view+json": {
       "model_id": "cc7d53321ce049e195a82983b2e702ef",
       "version_major": 2,
       "version_minor": 0
      },
      "text/plain": [
       "VBox(children=(Label(value='Checking for existence of images in 000000000001'), IntProgress(value=0, max=300))…"
      ]
     },
     "metadata": {},
     "output_type": "display_data"
    },
    {
     "name": "stdout",
     "output_type": "stream",
     "text": [
      "All 300 .tif filenames SUCCESSFULLY checked\n",
      "\n",
      "INFO: the new 'imaging_directory' to continue processing this volume is located at data/000000000001\n"
     ]
    },
    {
     "data": {
      "text/plain": [
       "'data/000000000001'"
      ]
     },
     "execution_count": 13,
     "metadata": {},
     "output_type": "execute_result"
    }
   ],
   "source": [
    "image_directory, image_extension = rename_hathitrust_volume_before_ocr(image_directory, image_extension)\n",
    "image_directory"
   ]
  },
  {
   "cell_type": "markdown",
   "metadata": {},
   "source": [
    "## Check Images for HathiTrust"
   ]
  },
  {
   "cell_type": "code",
   "execution_count": null,
   "metadata": {},
   "outputs": [],
   "source": [
    "# can I get the necessary metadata I need from Pillow for HathiTrust?\n",
    "\n",
    "# split images at: bitonal/contone is bitspersample -> 1/1+\n",
    "# bitonal: format -> TIFF\n",
    "# bitonal: photometric_interpretation -> 0\n",
    "# bitonal: x_ and y_ resolution -> 600\n",
    "# bitonal: compression -> Group4\n",
    "# if bitonal passes add to OCR list\n",
    "# if bitonal doens't pass -> remediate\n",
    "# contone: format -> JPEG2000\n",
    "# contone: compression -> Kakadu Part 1 Lossy\n",
    "# contone: bit depth -> 8\n",
    "# contone: colorspace sRGB *NOTE: icc not embedded\n",
    "# "
   ]
  },
  {
   "cell_type": "code",
   "execution_count": 14,
   "metadata": {
    "scrolled": false
   },
   "outputs": [],
   "source": [
    "images_df = get_images_df(image_directory, image_extension)"
   ]
  },
  {
   "cell_type": "code",
   "execution_count": 28,
   "metadata": {
    "code_folding": []
   },
   "outputs": [
    {
     "name": "stdout",
     "output_type": "stream",
     "text": [
      "290 bitonal images\n",
      "10 contone images\n"
     ]
    }
   ],
   "source": [
    "bitonal_df = images_df[images_df['EXIF:BitsPerSample'] == 1].dropna(axis='columns', how='all')  # drop columns that are all NaN values\n",
    "if len(bitonal_df) == 0:\n",
    "    print('No bitonal images')\n",
    "else:\n",
    "    print(f'{len(bitonal_df)} bitonal images')\n",
    "    bitonal_errors_compression_df = bitonal_df[bitonal_df['EXIF:Compression'] != 4]  # bitonal images without group4 compression\n",
    "    if len(bitonal_errors_compression_df) > 0:\n",
    "        bitonal_errors = True\n",
    "    bitonal_errors_resolution_unit_df = bitonal_df[bitonal_df['EXIF:ResolutionUnit'] != 2]  # in TIFF is 2 for inches, 1 is inches in JPEG\n",
    "    if len(bitonal_errors_resolution_unit_df) > 0:\n",
    "        bitonal_errors = True\n",
    "\n",
    "contone_df = images_df[images_df['EXIF:BitsPerSample'] != 1].dropna(axis='columns', how='all')\n",
    "if len(contone_df) == 0:\n",
    "    print('No contone images')\n",
    "else:\n",
    "    print(f'{len(contone_df)} contone images')"
   ]
  },
  {
   "cell_type": "markdown",
   "metadata": {},
   "source": [
    "## Save images as Photometric_Interpretation = 0"
   ]
  },
  {
   "cell_type": "code",
   "execution_count": 31,
   "metadata": {},
   "outputs": [],
   "source": [
    "min_is_black_df = bitonal_df[bitonal_df['EXIF:PhotometricInterpretation'] == 1].dropna(axis='columns', how='all')"
   ]
  },
  {
   "cell_type": "markdown",
   "metadata": {},
   "source": [
    "## Save bitonal as white-is-min using Pillow and no ImageMagick or Exiftool dependancy!\n",
    "\n",
    "Though I am still using imagemagick to check the Photometric Interpretation in the following cell\n",
    "and Exiftool is still being used to create the Dataframes, but this could be adjusted to just use Pillow . . . maybe?"
   ]
  },
  {
   "cell_type": "code",
   "execution_count": 41,
   "metadata": {},
   "outputs": [],
   "source": [
    "# invert image with numpy then save with Photometric Interpretation of 0, or white-is-min\n",
    "\n",
    "# convert black-is-min TIFFs to white-is-min\n",
    "min_is_black_df = bitonal_df[bitonal_df['EXIF:PhotometricInterpretation'] == 1]\n",
    "\n",
    "for image in min_is_black_df['SourceFile']:\n",
    "    image_path = Path(image)\n",
    "    logging.debug(f'Image: {image_path.name}')\n",
    "    photometric_interpretation = !magick {image_path} -format \"%[tiff:photometric]\" info:\n",
    "    logging.debug(f'Before: {photometric_interpretation}')\n",
    "    image_array_inverted = np.invert(np.array(Image.open(image_path)))\n",
    "    image_inverted = Image.fromarray(image_array_inverted)\n",
    "    # save with Jeremy's patched version of Pillow 5.4.1's TiffImagePlugin.py\n",
    "    image_inverted.save(image_path, compression='group4', dpi=(600., 600.), photometric_interpretation=(0,))\n",
    "    photometric_interpretation = !magick {image_path} -format \"%[tiff:photometric]\" info:\n",
    "    logging.debug(f'After: {photometric_interpretation}')"
   ]
  },
  {
   "cell_type": "markdown",
   "metadata": {},
   "source": [
    "## Check all min_is_black_df TIFFs for Photometric Interpretation"
   ]
  },
  {
   "cell_type": "code",
   "execution_count": 43,
   "metadata": {},
   "outputs": [
    {
     "name": "stdout",
     "output_type": "stream",
     "text": [
      "00000002.tif PhotoInterp: 0\n",
      "00000006.tif PhotoInterp: 0\n",
      "00000008.tif PhotoInterp: 0\n",
      "00000012.tif PhotoInterp: 0\n",
      "00000018.tif PhotoInterp: 0\n",
      "00000026.tif PhotoInterp: 0\n",
      "00000038.tif PhotoInterp: 0\n",
      "00000062.tif PhotoInterp: 0\n",
      "00000072.tif PhotoInterp: 0\n",
      "00000078.tif PhotoInterp: 0\n",
      "00000080.tif PhotoInterp: 0\n",
      "00000092.tif PhotoInterp: 0\n",
      "00000150.tif PhotoInterp: 0\n",
      "00000156.tif PhotoInterp: 0\n",
      "00000190.tif PhotoInterp: 0\n",
      "00000196.tif PhotoInterp: 0\n",
      "00000218.tif PhotoInterp: 0\n",
      "00000230.tif PhotoInterp: 0\n",
      "00000232.tif PhotoInterp: 0\n",
      "00000256.tif PhotoInterp: 0\n",
      "00000299.tif PhotoInterp: 0\n"
     ]
    }
   ],
   "source": [
    "# check photometric interpretation using Pillow\n",
    "for image in min_is_black_df['SourceFile']:\n",
    "    image_path = Path(image)\n",
    "    image = Image.open(image_path)\n",
    "    print(f'{image_path.name} PhotoInterp: {image.tag_v2[262]}')"
   ]
  },
  {
   "cell_type": "markdown",
   "metadata": {},
   "source": [
    "## Check all bitonal files to make sure they are White-Is-Min"
   ]
  },
  {
   "cell_type": "code",
   "execution_count": 44,
   "metadata": {},
   "outputs": [
    {
     "name": "stdout",
     "output_type": "stream",
     "text": [
      "correct images/total images\n",
      "290/290\n"
     ]
    }
   ],
   "source": [
    "count = 0\n",
    "for image in bitonal_df['SourceFile']:\n",
    "    image_path = Path(image)\n",
    "    image = Image.open(image_path)\n",
    "    if image.tag_v2[262] != 0:\n",
    "        print(f'{image_path.name} NOT White-Is-Min')\n",
    "    else:\n",
    "        count += 1\n",
    "print(f'correct images/total images')\n",
    "print(f'{count}/{len(bitonal_df)}')"
   ]
  },
  {
   "cell_type": "code",
   "execution_count": 51,
   "metadata": {},
   "outputs": [
    {
     "data": {
      "text/plain": [
       "['ASCII',\n",
       " 'BYTE',\n",
       " 'DOUBLE',\n",
       " 'FLOAT',\n",
       " 'LIBTIFF_CORE',\n",
       " 'LONG',\n",
       " 'RATIONAL',\n",
       " 'SHORT',\n",
       " 'SIGNED_BYTE',\n",
       " 'SIGNED_LONG',\n",
       " 'SIGNED_RATIONAL',\n",
       " 'SIGNED_SHORT',\n",
       " 'TAGS',\n",
       " 'TAGS_V2',\n",
       " 'TYPES',\n",
       " 'TagInfo',\n",
       " 'UNDEFINED',\n",
       " '__builtins__',\n",
       " '__cached__',\n",
       " '__doc__',\n",
       " '__file__',\n",
       " '__loader__',\n",
       " '__name__',\n",
       " '__package__',\n",
       " '__spec__',\n",
       " '_populate',\n",
       " 'lookup',\n",
       " 'namedtuple']"
      ]
     },
     "execution_count": 51,
     "metadata": {},
     "output_type": "execute_result"
    }
   ],
   "source": [
    "from PIL import TiffTags\n",
    "dir(TiffTags)"
   ]
  },
  {
   "cell_type": "code",
   "execution_count": 81,
   "metadata": {},
   "outputs": [
    {
     "name": "stdout",
     "output_type": "stream",
     "text": [
      "TagInfo(value=254, name='NewSubfileType', type=4, length=1, enum={})\n",
      "TagInfo(value=255, name='SubfileType', type=3, length=1, enum={})\n",
      "TagInfo(value=256, name='ImageWidth', type=4, length=1, enum={})\n",
      "TagInfo(value=257, name='ImageLength', type=4, length=1, enum={})\n",
      "TagInfo(value=258, name='BitsPerSample', type=3, length=0, enum={})\n",
      "TagInfo(value=259, name='Compression', type=3, length=1, enum={'Uncompressed': 1, 'CCITT 1d': 2, 'Group 3 Fax': 3, 'Group 4 Fax': 4, 'LZW': 5, 'JPEG': 6, 'PackBits': 32773})\n",
      "TagInfo(value=262, name='PhotometricInterpretation', type=3, length=1, enum={'WhiteIsZero': 0, 'BlackIsZero': 1, 'RGB': 2, 'RGB Palette': 3, 'Transparency Mask': 4, 'CMYK': 5, 'YCbCr': 6, 'CieLAB': 8, 'CFA': 32803, 'LinearRaw': 32892})\n",
      "TagInfo(value=263, name='Threshholding', type=3, length=1, enum={})\n",
      "TagInfo(value=264, name='CellWidth', type=3, length=1, enum={})\n",
      "TagInfo(value=265, name='CellLength', type=3, length=1, enum={})\n",
      "TagInfo(value=266, name='FillOrder', type=3, length=1, enum={})\n",
      "TagInfo(value=269, name='DocumentName', type=2, length=1, enum={})\n",
      "TagInfo(value=270, name='ImageDescription', type=2, length=1, enum={})\n",
      "TagInfo(value=271, name='Make', type=2, length=1, enum={})\n",
      "TagInfo(value=272, name='Model', type=2, length=1, enum={})\n",
      "TagInfo(value=273, name='StripOffsets', type=4, length=0, enum={})\n",
      "TagInfo(value=274, name='Orientation', type=3, length=1, enum={})\n",
      "TagInfo(value=277, name='SamplesPerPixel', type=3, length=1, enum={})\n",
      "TagInfo(value=278, name='RowsPerStrip', type=4, length=1, enum={})\n",
      "TagInfo(value=279, name='StripByteCounts', type=4, length=0, enum={})\n",
      "TagInfo(value=280, name='MinSampleValue', type=4, length=0, enum={})\n",
      "TagInfo(value=281, name='MaxSampleValue', type=3, length=0, enum={})\n",
      "TagInfo(value=282, name='XResolution', type=5, length=1, enum={})\n",
      "TagInfo(value=283, name='YResolution', type=5, length=1, enum={})\n",
      "TagInfo(value=284, name='PlanarConfiguration', type=3, length=1, enum={'Contiguous': 1, 'Separate': 2})\n",
      "TagInfo(value=285, name='PageName', type=2, length=1, enum={})\n",
      "TagInfo(value=286, name='XPosition', type=5, length=1, enum={})\n",
      "TagInfo(value=287, name='YPosition', type=5, length=1, enum={})\n",
      "TagInfo(value=288, name='FreeOffsets', type=4, length=1, enum={})\n",
      "TagInfo(value=289, name='FreeByteCounts', type=4, length=1, enum={})\n",
      "TagInfo(value=290, name='GrayResponseUnit', type=3, length=1, enum={})\n",
      "TagInfo(value=291, name='GrayResponseCurve', type=3, length=0, enum={})\n",
      "TagInfo(value=292, name='T4Options', type=4, length=1, enum={})\n",
      "TagInfo(value=293, name='T6Options', type=4, length=1, enum={})\n",
      "TagInfo(value=296, name='ResolutionUnit', type=3, length=1, enum={'none': 1, 'inch': 2, 'cm': 3})\n",
      "TagInfo(value=297, name='PageNumber', type=3, length=2, enum={})\n",
      "TagInfo(value=301, name='TransferFunction', type=3, length=0, enum={})\n",
      "TagInfo(value=305, name='Software', type=2, length=1, enum={})\n",
      "TagInfo(value=306, name='DateTime', type=2, length=1, enum={})\n",
      "TagInfo(value=315, name='Artist', type=2, length=1, enum={})\n",
      "TagInfo(value=316, name='HostComputer', type=2, length=1, enum={})\n",
      "TagInfo(value=317, name='Predictor', type=3, length=1, enum={'none': 1, 'Horizontal Differencing': 2})\n",
      "TagInfo(value=318, name='WhitePoint', type=5, length=2, enum={})\n",
      "TagInfo(value=319, name='PrimaryChromaticities', type=5, length=6, enum={})\n",
      "TagInfo(value=320, name='ColorMap', type=3, length=0, enum={})\n",
      "TagInfo(value=321, name='HalftoneHints', type=3, length=2, enum={})\n",
      "TagInfo(value=322, name='TileWidth', type=4, length=1, enum={})\n",
      "TagInfo(value=323, name='TileLength', type=4, length=1, enum={})\n",
      "TagInfo(value=324, name='TileOffsets', type=4, length=0, enum={})\n",
      "TagInfo(value=325, name='TileByteCounts', type=4, length=0, enum={})\n",
      "TagInfo(value=332, name='InkSet', type=3, length=1, enum={})\n",
      "TagInfo(value=333, name='InkNames', type=2, length=1, enum={})\n",
      "TagInfo(value=334, name='NumberOfInks', type=3, length=1, enum={})\n",
      "TagInfo(value=336, name='DotRange', type=3, length=0, enum={})\n",
      "TagInfo(value=337, name='TargetPrinter', type=2, length=1, enum={})\n",
      "TagInfo(value=338, name='ExtraSamples', type=3, length=0, enum={})\n",
      "TagInfo(value=339, name='SampleFormat', type=3, length=0, enum={})\n",
      "TagInfo(value=340, name='SMinSampleValue', type=12, length=0, enum={})\n",
      "TagInfo(value=341, name='SMaxSampleValue', type=12, length=0, enum={})\n",
      "TagInfo(value=342, name='TransferRange', type=3, length=6, enum={})\n",
      "TagInfo(value=347, name='JPEGTables', type=7, length=1, enum={})\n",
      "TagInfo(value=512, name='JPEGProc', type=3, length=1, enum={})\n",
      "TagInfo(value=513, name='JPEGInterchangeFormat', type=4, length=1, enum={})\n",
      "TagInfo(value=514, name='JPEGInterchangeFormatLength', type=4, length=1, enum={})\n",
      "TagInfo(value=515, name='JPEGRestartInterval', type=3, length=1, enum={})\n",
      "TagInfo(value=517, name='JPEGLosslessPredictors', type=3, length=0, enum={})\n",
      "TagInfo(value=518, name='JPEGPointTransforms', type=3, length=0, enum={})\n",
      "TagInfo(value=519, name='JPEGQTables', type=4, length=0, enum={})\n",
      "TagInfo(value=520, name='JPEGDCTables', type=4, length=0, enum={})\n",
      "TagInfo(value=521, name='JPEGACTables', type=4, length=0, enum={})\n",
      "TagInfo(value=529, name='YCbCrCoefficients', type=5, length=3, enum={})\n",
      "TagInfo(value=530, name='YCbCrSubSampling', type=3, length=2, enum={})\n",
      "TagInfo(value=531, name='YCbCrPositioning', type=3, length=1, enum={})\n",
      "TagInfo(value=532, name='ReferenceBlackWhite', type=5, length=6, enum={})\n",
      "TagInfo(value=700, name='XMP', type=1, length=1, enum={})\n",
      "TagInfo(value=33432, name='Copyright', type=2, length=1, enum={})\n",
      "TagInfo(value=34377, name='PhotoshopInfo', type=1, length=1, enum={})\n",
      "TagInfo(value=34665, name='ExifIFD', type=3, length=1, enum={})\n",
      "TagInfo(value=34675, name='ICCProfile', type=7, length=1, enum={})\n",
      "TagInfo(value=34853, name='GPSInfoIFD', type=1, length=1, enum={})\n",
      "TagInfo(value=45056, name='MPFVersion', type=7, length=1, enum={})\n",
      "TagInfo(value=45057, name='NumberOfImages', type=4, length=1, enum={})\n",
      "TagInfo(value=45058, name='MPEntry', type=7, length=1, enum={})\n",
      "TagInfo(value=45059, name='ImageUIDList', type=7, length=0, enum={})\n",
      "TagInfo(value=45060, name='TotalFrames', type=4, length=1, enum={})\n",
      "TagInfo(value=45313, name='MPIndividualNum', type=4, length=1, enum={})\n",
      "TagInfo(value=45569, name='PanOrientation', type=4, length=1, enum={})\n",
      "TagInfo(value=45570, name='PanOverlap_H', type=5, length=1, enum={})\n",
      "TagInfo(value=45571, name='PanOverlap_V', type=5, length=1, enum={})\n",
      "TagInfo(value=45572, name='BaseViewpointNum', type=4, length=1, enum={})\n",
      "TagInfo(value=45573, name='ConvergenceAngle', type=10, length=1, enum={})\n",
      "TagInfo(value=45574, name='BaselineLength', type=5, length=1, enum={})\n",
      "TagInfo(value=45575, name='VerticalDivergence', type=10, length=1, enum={})\n",
      "TagInfo(value=45576, name='AxisDistance_X', type=10, length=1, enum={})\n",
      "TagInfo(value=45577, name='AxisDistance_Y', type=10, length=1, enum={})\n",
      "TagInfo(value=45578, name='AxisDistance_Z', type=10, length=1, enum={})\n",
      "TagInfo(value=45579, name='YawAngle', type=10, length=1, enum={})\n",
      "TagInfo(value=45580, name='PitchAngle', type=10, length=1, enum={})\n",
      "TagInfo(value=45581, name='RollAngle', type=10, length=1, enum={})\n",
      "TagInfo(value=50741, name='MakerNoteSafety', type=3, length=1, enum={'Unsafe': 0, 'Safe': 1})\n",
      "TagInfo(value=50780, name='BestQualityScale', type=5, length=1, enum={})\n",
      "TagInfo(value=50838, name='ImageJMetaDataByteCounts', type=4, length=0, enum={})\n",
      "TagInfo(value=50839, name='ImageJMetaData', type=7, length=1, enum={})\n"
     ]
    }
   ],
   "source": [
    "# what are the tags we need to identify?\n",
    "for tag in TiffTags.TAGS_V2:\n",
    "    print(TiffTags.lookup(tag))"
   ]
  },
  {
   "cell_type": "code",
   "execution_count": null,
   "metadata": {},
   "outputs": [],
   "source": [
    "# get all bitonal images\n",
    "from PIL import ExifTags\n",
    "\n",
    "exifData = {}\n",
    "img = Image.open(picture.jpg)\n",
    "exifDataRaw = img._getexif()\n",
    "for tag, value in exifDataRaw.items():\n",
    "    decodedTag = ExifTags.TAGS.get("
   ]
  },
  {
   "cell_type": "code",
   "execution_count": null,
   "metadata": {},
   "outputs": [],
   "source": [
    "# get exifData for all images"
   ]
  },
  {
   "cell_type": "code",
   "execution_count": null,
   "metadata": {},
   "outputs": [],
   "source": [
    "# maybe I just need to loop through all of the images\n",
    "# as each image is processed the metadata is updated"
   ]
  },
  {
   "cell_type": "markdown",
   "metadata": {},
   "source": [
    "# loop through images displaying data and output"
   ]
  },
  {
   "cell_type": "code",
   "execution_count": 106,
   "metadata": {},
   "outputs": [
    {
     "data": {
      "text/plain": [
       "'data/000000000001'"
      ]
     },
     "execution_count": 106,
     "metadata": {},
     "output_type": "execute_result"
    }
   ],
   "source": [
    "image_directory"
   ]
  },
  {
   "cell_type": "code",
   "execution_count": 105,
   "metadata": {},
   "outputs": [
    {
     "data": {
      "text/plain": [
       "'.tif'"
      ]
     },
     "execution_count": 105,
     "metadata": {},
     "output_type": "execute_result"
    }
   ],
   "source": [
    "image_extension"
   ]
  },
  {
   "cell_type": "code",
   "execution_count": 114,
   "metadata": {
    "scrolled": true
   },
   "outputs": [
    {
     "data": {
      "text/plain": [
       "[PosixPath('data/000000000001/00000001.tif'),\n",
       " PosixPath('data/000000000001/00000002.tif'),\n",
       " PosixPath('data/000000000001/00000003.tif'),\n",
       " PosixPath('data/000000000001/00000004.tif'),\n",
       " PosixPath('data/000000000001/00000005.tif'),\n",
       " PosixPath('data/000000000001/00000006.tif'),\n",
       " PosixPath('data/000000000001/00000007.tif'),\n",
       " PosixPath('data/000000000001/00000008.tif'),\n",
       " PosixPath('data/000000000001/00000009.tif'),\n",
       " PosixPath('data/000000000001/00000010.tif'),\n",
       " PosixPath('data/000000000001/00000011.tif'),\n",
       " PosixPath('data/000000000001/00000012.tif'),\n",
       " PosixPath('data/000000000001/00000013.tif'),\n",
       " PosixPath('data/000000000001/00000014.tif'),\n",
       " PosixPath('data/000000000001/00000015.tif'),\n",
       " PosixPath('data/000000000001/00000016.tif'),\n",
       " PosixPath('data/000000000001/00000017.tif'),\n",
       " PosixPath('data/000000000001/00000018.tif'),\n",
       " PosixPath('data/000000000001/00000019.tif'),\n",
       " PosixPath('data/000000000001/00000020.tif'),\n",
       " PosixPath('data/000000000001/00000021.tif'),\n",
       " PosixPath('data/000000000001/00000022.tif'),\n",
       " PosixPath('data/000000000001/00000023.tif'),\n",
       " PosixPath('data/000000000001/00000024.tif'),\n",
       " PosixPath('data/000000000001/00000025.tif'),\n",
       " PosixPath('data/000000000001/00000026.tif'),\n",
       " PosixPath('data/000000000001/00000027.tif'),\n",
       " PosixPath('data/000000000001/00000028.tif'),\n",
       " PosixPath('data/000000000001/00000029.tif'),\n",
       " PosixPath('data/000000000001/00000030.tif'),\n",
       " PosixPath('data/000000000001/00000031.tif'),\n",
       " PosixPath('data/000000000001/00000032.tif'),\n",
       " PosixPath('data/000000000001/00000033.tif'),\n",
       " PosixPath('data/000000000001/00000034.tif'),\n",
       " PosixPath('data/000000000001/00000035.tif'),\n",
       " PosixPath('data/000000000001/00000036.tif'),\n",
       " PosixPath('data/000000000001/00000037.tif'),\n",
       " PosixPath('data/000000000001/00000038.tif'),\n",
       " PosixPath('data/000000000001/00000039.tif'),\n",
       " PosixPath('data/000000000001/00000040.tif'),\n",
       " PosixPath('data/000000000001/00000041.tif'),\n",
       " PosixPath('data/000000000001/00000042.tif'),\n",
       " PosixPath('data/000000000001/00000043.tif'),\n",
       " PosixPath('data/000000000001/00000044.tif'),\n",
       " PosixPath('data/000000000001/00000045.tif'),\n",
       " PosixPath('data/000000000001/00000046.tif'),\n",
       " PosixPath('data/000000000001/00000047.tif'),\n",
       " PosixPath('data/000000000001/00000048.tif'),\n",
       " PosixPath('data/000000000001/00000049.tif'),\n",
       " PosixPath('data/000000000001/00000050.tif'),\n",
       " PosixPath('data/000000000001/00000051.tif'),\n",
       " PosixPath('data/000000000001/00000052.tif'),\n",
       " PosixPath('data/000000000001/00000053.tif'),\n",
       " PosixPath('data/000000000001/00000054.tif'),\n",
       " PosixPath('data/000000000001/00000055.tif'),\n",
       " PosixPath('data/000000000001/00000056.tif'),\n",
       " PosixPath('data/000000000001/00000057.tif'),\n",
       " PosixPath('data/000000000001/00000058.tif'),\n",
       " PosixPath('data/000000000001/00000059.tif'),\n",
       " PosixPath('data/000000000001/00000060.tif'),\n",
       " PosixPath('data/000000000001/00000061.tif'),\n",
       " PosixPath('data/000000000001/00000062.tif'),\n",
       " PosixPath('data/000000000001/00000063.tif'),\n",
       " PosixPath('data/000000000001/00000064.tif'),\n",
       " PosixPath('data/000000000001/00000065.tif'),\n",
       " PosixPath('data/000000000001/00000066.tif'),\n",
       " PosixPath('data/000000000001/00000067.tif'),\n",
       " PosixPath('data/000000000001/00000068.tif'),\n",
       " PosixPath('data/000000000001/00000069.tif'),\n",
       " PosixPath('data/000000000001/00000070.tif'),\n",
       " PosixPath('data/000000000001/00000071.tif'),\n",
       " PosixPath('data/000000000001/00000072.tif'),\n",
       " PosixPath('data/000000000001/00000073.tif'),\n",
       " PosixPath('data/000000000001/00000074.tif'),\n",
       " PosixPath('data/000000000001/00000075.tif'),\n",
       " PosixPath('data/000000000001/00000076.tif'),\n",
       " PosixPath('data/000000000001/00000077.tif'),\n",
       " PosixPath('data/000000000001/00000078.tif'),\n",
       " PosixPath('data/000000000001/00000079.tif'),\n",
       " PosixPath('data/000000000001/00000080.tif'),\n",
       " PosixPath('data/000000000001/00000081.tif'),\n",
       " PosixPath('data/000000000001/00000082.tif'),\n",
       " PosixPath('data/000000000001/00000083.tif'),\n",
       " PosixPath('data/000000000001/00000084.tif'),\n",
       " PosixPath('data/000000000001/00000085.tif'),\n",
       " PosixPath('data/000000000001/00000086.tif'),\n",
       " PosixPath('data/000000000001/00000087.tif'),\n",
       " PosixPath('data/000000000001/00000088.tif'),\n",
       " PosixPath('data/000000000001/00000089.tif'),\n",
       " PosixPath('data/000000000001/00000090.tif'),\n",
       " PosixPath('data/000000000001/00000091.tif'),\n",
       " PosixPath('data/000000000001/00000092.tif'),\n",
       " PosixPath('data/000000000001/00000093.tif'),\n",
       " PosixPath('data/000000000001/00000094.tif'),\n",
       " PosixPath('data/000000000001/00000095.tif'),\n",
       " PosixPath('data/000000000001/00000096.tif'),\n",
       " PosixPath('data/000000000001/00000097.tif'),\n",
       " PosixPath('data/000000000001/00000098.tif'),\n",
       " PosixPath('data/000000000001/00000099.tif'),\n",
       " PosixPath('data/000000000001/00000100.tif'),\n",
       " PosixPath('data/000000000001/00000101.tif'),\n",
       " PosixPath('data/000000000001/00000102.tif'),\n",
       " PosixPath('data/000000000001/00000103.tif'),\n",
       " PosixPath('data/000000000001/00000104.tif'),\n",
       " PosixPath('data/000000000001/00000105.tif'),\n",
       " PosixPath('data/000000000001/00000106.tif'),\n",
       " PosixPath('data/000000000001/00000107.tif'),\n",
       " PosixPath('data/000000000001/00000108.tif'),\n",
       " PosixPath('data/000000000001/00000109.tif'),\n",
       " PosixPath('data/000000000001/00000110.tif'),\n",
       " PosixPath('data/000000000001/00000111.tif'),\n",
       " PosixPath('data/000000000001/00000112.tif'),\n",
       " PosixPath('data/000000000001/00000113.tif'),\n",
       " PosixPath('data/000000000001/00000114.tif'),\n",
       " PosixPath('data/000000000001/00000115.tif'),\n",
       " PosixPath('data/000000000001/00000116.tif'),\n",
       " PosixPath('data/000000000001/00000117.tif'),\n",
       " PosixPath('data/000000000001/00000118.tif'),\n",
       " PosixPath('data/000000000001/00000119.tif'),\n",
       " PosixPath('data/000000000001/00000120.tif'),\n",
       " PosixPath('data/000000000001/00000121.tif'),\n",
       " PosixPath('data/000000000001/00000122.tif'),\n",
       " PosixPath('data/000000000001/00000123.tif'),\n",
       " PosixPath('data/000000000001/00000124.tif'),\n",
       " PosixPath('data/000000000001/00000125.tif'),\n",
       " PosixPath('data/000000000001/00000126.tif'),\n",
       " PosixPath('data/000000000001/00000127.tif'),\n",
       " PosixPath('data/000000000001/00000128.tif'),\n",
       " PosixPath('data/000000000001/00000129.tif'),\n",
       " PosixPath('data/000000000001/00000130.tif'),\n",
       " PosixPath('data/000000000001/00000131.tif'),\n",
       " PosixPath('data/000000000001/00000132.tif'),\n",
       " PosixPath('data/000000000001/00000133.tif'),\n",
       " PosixPath('data/000000000001/00000134.tif'),\n",
       " PosixPath('data/000000000001/00000135.tif'),\n",
       " PosixPath('data/000000000001/00000136.tif'),\n",
       " PosixPath('data/000000000001/00000137.tif'),\n",
       " PosixPath('data/000000000001/00000138.tif'),\n",
       " PosixPath('data/000000000001/00000139.tif'),\n",
       " PosixPath('data/000000000001/00000140.tif'),\n",
       " PosixPath('data/000000000001/00000141.tif'),\n",
       " PosixPath('data/000000000001/00000142.tif'),\n",
       " PosixPath('data/000000000001/00000143.tif'),\n",
       " PosixPath('data/000000000001/00000144.tif'),\n",
       " PosixPath('data/000000000001/00000145.tif'),\n",
       " PosixPath('data/000000000001/00000146.tif'),\n",
       " PosixPath('data/000000000001/00000147.tif'),\n",
       " PosixPath('data/000000000001/00000148.tif'),\n",
       " PosixPath('data/000000000001/00000149.tif'),\n",
       " PosixPath('data/000000000001/00000150.tif'),\n",
       " PosixPath('data/000000000001/00000151.tif'),\n",
       " PosixPath('data/000000000001/00000152.tif'),\n",
       " PosixPath('data/000000000001/00000153.tif'),\n",
       " PosixPath('data/000000000001/00000154.tif'),\n",
       " PosixPath('data/000000000001/00000155.tif'),\n",
       " PosixPath('data/000000000001/00000156.tif'),\n",
       " PosixPath('data/000000000001/00000157.tif'),\n",
       " PosixPath('data/000000000001/00000158.tif'),\n",
       " PosixPath('data/000000000001/00000159.tif'),\n",
       " PosixPath('data/000000000001/00000160.tif'),\n",
       " PosixPath('data/000000000001/00000161.tif'),\n",
       " PosixPath('data/000000000001/00000162.tif'),\n",
       " PosixPath('data/000000000001/00000163.tif'),\n",
       " PosixPath('data/000000000001/00000164.tif'),\n",
       " PosixPath('data/000000000001/00000165.tif'),\n",
       " PosixPath('data/000000000001/00000166.tif'),\n",
       " PosixPath('data/000000000001/00000167.tif'),\n",
       " PosixPath('data/000000000001/00000168.tif'),\n",
       " PosixPath('data/000000000001/00000169.tif'),\n",
       " PosixPath('data/000000000001/00000170.tif'),\n",
       " PosixPath('data/000000000001/00000171.tif'),\n",
       " PosixPath('data/000000000001/00000172.tif'),\n",
       " PosixPath('data/000000000001/00000173.tif'),\n",
       " PosixPath('data/000000000001/00000174.tif'),\n",
       " PosixPath('data/000000000001/00000175.tif'),\n",
       " PosixPath('data/000000000001/00000176.tif'),\n",
       " PosixPath('data/000000000001/00000177.tif'),\n",
       " PosixPath('data/000000000001/00000178.tif'),\n",
       " PosixPath('data/000000000001/00000179.tif'),\n",
       " PosixPath('data/000000000001/00000180.tif'),\n",
       " PosixPath('data/000000000001/00000181.tif'),\n",
       " PosixPath('data/000000000001/00000182.tif'),\n",
       " PosixPath('data/000000000001/00000183.tif'),\n",
       " PosixPath('data/000000000001/00000184.tif'),\n",
       " PosixPath('data/000000000001/00000185.tif'),\n",
       " PosixPath('data/000000000001/00000186.tif'),\n",
       " PosixPath('data/000000000001/00000187.tif'),\n",
       " PosixPath('data/000000000001/00000188.tif'),\n",
       " PosixPath('data/000000000001/00000189.tif'),\n",
       " PosixPath('data/000000000001/00000190.tif'),\n",
       " PosixPath('data/000000000001/00000191.tif'),\n",
       " PosixPath('data/000000000001/00000192.tif'),\n",
       " PosixPath('data/000000000001/00000193.tif'),\n",
       " PosixPath('data/000000000001/00000194.tif'),\n",
       " PosixPath('data/000000000001/00000195.tif'),\n",
       " PosixPath('data/000000000001/00000196.tif'),\n",
       " PosixPath('data/000000000001/00000197.tif'),\n",
       " PosixPath('data/000000000001/00000198.tif'),\n",
       " PosixPath('data/000000000001/00000199.tif'),\n",
       " PosixPath('data/000000000001/00000200.tif'),\n",
       " PosixPath('data/000000000001/00000201.tif'),\n",
       " PosixPath('data/000000000001/00000202.tif'),\n",
       " PosixPath('data/000000000001/00000203.tif'),\n",
       " PosixPath('data/000000000001/00000204.tif'),\n",
       " PosixPath('data/000000000001/00000205.tif'),\n",
       " PosixPath('data/000000000001/00000206.tif'),\n",
       " PosixPath('data/000000000001/00000207.tif'),\n",
       " PosixPath('data/000000000001/00000208.tif'),\n",
       " PosixPath('data/000000000001/00000209.tif'),\n",
       " PosixPath('data/000000000001/00000210.tif'),\n",
       " PosixPath('data/000000000001/00000211.tif'),\n",
       " PosixPath('data/000000000001/00000212.tif'),\n",
       " PosixPath('data/000000000001/00000213.tif'),\n",
       " PosixPath('data/000000000001/00000214.tif'),\n",
       " PosixPath('data/000000000001/00000215.tif'),\n",
       " PosixPath('data/000000000001/00000216.tif'),\n",
       " PosixPath('data/000000000001/00000217.tif'),\n",
       " PosixPath('data/000000000001/00000218.tif'),\n",
       " PosixPath('data/000000000001/00000219.tif'),\n",
       " PosixPath('data/000000000001/00000220.tif'),\n",
       " PosixPath('data/000000000001/00000221.tif'),\n",
       " PosixPath('data/000000000001/00000222.tif'),\n",
       " PosixPath('data/000000000001/00000223.tif'),\n",
       " PosixPath('data/000000000001/00000224.tif'),\n",
       " PosixPath('data/000000000001/00000225.tif'),\n",
       " PosixPath('data/000000000001/00000226.tif'),\n",
       " PosixPath('data/000000000001/00000227.tif'),\n",
       " PosixPath('data/000000000001/00000228.tif'),\n",
       " PosixPath('data/000000000001/00000229.tif'),\n",
       " PosixPath('data/000000000001/00000230.tif'),\n",
       " PosixPath('data/000000000001/00000231.tif'),\n",
       " PosixPath('data/000000000001/00000232.tif'),\n",
       " PosixPath('data/000000000001/00000233.tif'),\n",
       " PosixPath('data/000000000001/00000234.tif'),\n",
       " PosixPath('data/000000000001/00000235.tif'),\n",
       " PosixPath('data/000000000001/00000236.tif'),\n",
       " PosixPath('data/000000000001/00000237.tif'),\n",
       " PosixPath('data/000000000001/00000238.tif'),\n",
       " PosixPath('data/000000000001/00000239.tif'),\n",
       " PosixPath('data/000000000001/00000240.tif'),\n",
       " PosixPath('data/000000000001/00000241.tif'),\n",
       " PosixPath('data/000000000001/00000242.tif'),\n",
       " PosixPath('data/000000000001/00000243.tif'),\n",
       " PosixPath('data/000000000001/00000244.tif'),\n",
       " PosixPath('data/000000000001/00000245.tif'),\n",
       " PosixPath('data/000000000001/00000246.tif'),\n",
       " PosixPath('data/000000000001/00000247.tif'),\n",
       " PosixPath('data/000000000001/00000248.tif'),\n",
       " PosixPath('data/000000000001/00000249.tif'),\n",
       " PosixPath('data/000000000001/00000250.tif'),\n",
       " PosixPath('data/000000000001/00000251.tif'),\n",
       " PosixPath('data/000000000001/00000252.tif'),\n",
       " PosixPath('data/000000000001/00000253.tif'),\n",
       " PosixPath('data/000000000001/00000254.tif'),\n",
       " PosixPath('data/000000000001/00000255.tif'),\n",
       " PosixPath('data/000000000001/00000256.tif'),\n",
       " PosixPath('data/000000000001/00000257.tif'),\n",
       " PosixPath('data/000000000001/00000258.tif'),\n",
       " PosixPath('data/000000000001/00000259.tif'),\n",
       " PosixPath('data/000000000001/00000260.tif'),\n",
       " PosixPath('data/000000000001/00000261.tif'),\n",
       " PosixPath('data/000000000001/00000262.tif'),\n",
       " PosixPath('data/000000000001/00000263.tif'),\n",
       " PosixPath('data/000000000001/00000264.tif'),\n",
       " PosixPath('data/000000000001/00000265.tif'),\n",
       " PosixPath('data/000000000001/00000266.tif'),\n",
       " PosixPath('data/000000000001/00000267.tif'),\n",
       " PosixPath('data/000000000001/00000268.tif'),\n",
       " PosixPath('data/000000000001/00000269.tif'),\n",
       " PosixPath('data/000000000001/00000270.tif'),\n",
       " PosixPath('data/000000000001/00000271.tif'),\n",
       " PosixPath('data/000000000001/00000272.tif'),\n",
       " PosixPath('data/000000000001/00000273.tif'),\n",
       " PosixPath('data/000000000001/00000274.tif'),\n",
       " PosixPath('data/000000000001/00000275.tif'),\n",
       " PosixPath('data/000000000001/00000276.tif'),\n",
       " PosixPath('data/000000000001/00000277.tif'),\n",
       " PosixPath('data/000000000001/00000278.tif'),\n",
       " PosixPath('data/000000000001/00000279.tif'),\n",
       " PosixPath('data/000000000001/00000280.tif'),\n",
       " PosixPath('data/000000000001/00000281.tif'),\n",
       " PosixPath('data/000000000001/00000282.tif'),\n",
       " PosixPath('data/000000000001/00000283.tif'),\n",
       " PosixPath('data/000000000001/00000284.tif'),\n",
       " PosixPath('data/000000000001/00000285.tif'),\n",
       " PosixPath('data/000000000001/00000286.tif'),\n",
       " PosixPath('data/000000000001/00000287.tif'),\n",
       " PosixPath('data/000000000001/00000288.tif'),\n",
       " PosixPath('data/000000000001/00000289.tif'),\n",
       " PosixPath('data/000000000001/00000290.tif'),\n",
       " PosixPath('data/000000000001/00000291.tif'),\n",
       " PosixPath('data/000000000001/00000292.tif'),\n",
       " PosixPath('data/000000000001/00000293.tif'),\n",
       " PosixPath('data/000000000001/00000294.tif'),\n",
       " PosixPath('data/000000000001/00000295.tif'),\n",
       " PosixPath('data/000000000001/00000296.tif'),\n",
       " PosixPath('data/000000000001/00000297.tif'),\n",
       " PosixPath('data/000000000001/00000298.tif'),\n",
       " PosixPath('data/000000000001/00000299.tif'),\n",
       " PosixPath('data/000000000001/00000300.tif')]"
      ]
     },
     "execution_count": 114,
     "metadata": {},
     "output_type": "execute_result"
    }
   ],
   "source": [
    "image_paths_list = sorted((Path(image_directory).glob('*' + image_extension)))\n",
    "image_paths_list"
   ]
  },
  {
   "cell_type": "code",
   "execution_count": null,
   "metadata": {},
   "outputs": [],
   "source": [
    "for image_path in image_paths_list:\n",
    "    "
   ]
  },
  {
   "cell_type": "code",
   "execution_count": 82,
   "metadata": {},
   "outputs": [],
   "source": [
    "from PIL import ExifTags\n",
    "exifData = {}"
   ]
  },
  {
   "cell_type": "code",
   "execution_count": 86,
   "metadata": {},
   "outputs": [],
   "source": [
    "image = Image.open('/Users/jeremy/rgb_text_test_image_photoshop_save.tif')\n",
    "image.show()"
   ]
  },
  {
   "cell_type": "code",
   "execution_count": 96,
   "metadata": {},
   "outputs": [
    {
     "name": "stdout",
     "output_type": "stream",
     "text": [
      "256 in both\n",
      "257 in both\n",
      "258 in both\n",
      "259 in both\n",
      "262 in both\n",
      "273 in both\n",
      "274 in both\n",
      "277 in both\n",
      "278 in both\n",
      "279 in both\n",
      "282 in both\n",
      "283 in both\n",
      "284 in both\n",
      "296 in both\n",
      "305 in both\n",
      "306 in both\n",
      "700 in both\n",
      "34377 in both\n",
      "34665 in both\n",
      "254 in both\n"
     ]
    }
   ],
   "source": [
    "for tag in image.tag:\n",
    "    for tag2 in image.tag_v2:\n",
    "        if tag == tag2:\n",
    "            print(tag, 'in both')"
   ]
  },
  {
   "cell_type": "code",
   "execution_count": 97,
   "metadata": {},
   "outputs": [
    {
     "name": "stdout",
     "output_type": "stream",
     "text": [
      "256\n",
      "TagInfo(value=256, name='ImageWidth', type=4, length=1, enum={})\n",
      "257\n",
      "TagInfo(value=257, name='ImageLength', type=4, length=1, enum={})\n",
      "258\n",
      "TagInfo(value=258, name='BitsPerSample', type=3, length=0, enum={})\n",
      "259\n",
      "TagInfo(value=259, name='Compression', type=3, length=1, enum={'Uncompressed': 1, 'CCITT 1d': 2, 'Group 3 Fax': 3, 'Group 4 Fax': 4, 'LZW': 5, 'JPEG': 6, 'PackBits': 32773})\n",
      "262\n",
      "TagInfo(value=262, name='PhotometricInterpretation', type=3, length=1, enum={'WhiteIsZero': 0, 'BlackIsZero': 1, 'RGB': 2, 'RGB Palette': 3, 'Transparency Mask': 4, 'CMYK': 5, 'YCbCr': 6, 'CieLAB': 8, 'CFA': 32803, 'LinearRaw': 32892})\n",
      "34377\n",
      "TagInfo(value=34377, name='PhotoshopInfo', type=1, length=1, enum={})\n",
      "273\n",
      "TagInfo(value=273, name='StripOffsets', type=4, length=0, enum={})\n",
      "274\n",
      "TagInfo(value=274, name='Orientation', type=3, length=1, enum={})\n",
      "277\n",
      "TagInfo(value=277, name='SamplesPerPixel', type=3, length=1, enum={})\n",
      "278\n",
      "TagInfo(value=278, name='RowsPerStrip', type=4, length=1, enum={})\n",
      "279\n",
      "TagInfo(value=279, name='StripByteCounts', type=4, length=0, enum={})\n",
      "282\n",
      "TagInfo(value=282, name='XResolution', type=5, length=1, enum={})\n",
      "283\n",
      "TagInfo(value=283, name='YResolution', type=5, length=1, enum={})\n",
      "284\n",
      "TagInfo(value=284, name='PlanarConfiguration', type=3, length=1, enum={'Contiguous': 1, 'Separate': 2})\n",
      "296\n",
      "TagInfo(value=296, name='ResolutionUnit', type=3, length=1, enum={'none': 1, 'inch': 2, 'cm': 3})\n",
      "34665\n",
      "TagInfo(value=34665, name='ExifIFD', type=3, length=1, enum={})\n",
      "305\n",
      "TagInfo(value=305, name='Software', type=2, length=1, enum={})\n",
      "306\n",
      "TagInfo(value=306, name='DateTime', type=2, length=1, enum={})\n",
      "700\n",
      "TagInfo(value=700, name='XMP', type=1, length=1, enum={})\n",
      "254\n",
      "TagInfo(value=254, name='NewSubfileType', type=4, length=1, enum={})\n"
     ]
    }
   ],
   "source": [
    "for tag in image.tag_v2:\n",
    "    print(tag)\n",
    "    print(TiffTags.lookup(tag))"
   ]
  },
  {
   "cell_type": "code",
   "execution_count": 80,
   "metadata": {},
   "outputs": [
    {
     "name": "stdout",
     "output_type": "stream",
     "text": [
      "FOR ALL IMAGES\n",
      "258 TagInfo(value=258, name='BitsPerSample', type=3, length=0, enum={})\n",
      "\n",
      "262 TagInfo(value=262, name='PhotometricInterpretation', type=3, length=1, enum={'WhiteIsZero': 0, 'BlackIsZero': 1, 'RGB': 2, 'RGB Palette': 3, 'Transparency Mask': 4, 'CMYK': 5, 'YCbCr': 6, 'CieLAB': 8, 'CFA': 32803, 'LinearRaw': 32892})\n",
      "\n",
      "269 TagInfo(value=269, name='DocumentName', type=2, length=1, enum={})\n",
      "\n"
     ]
    }
   ],
   "source": [
    "print('FOR ALL IMAGES')\n",
    "\n",
    "\n",
    "BitsPerSample = 258  # separate bitonal/contone AND verify contone == 8 bits/channel\n",
    "print(BitsPerSample, TiffTags.lookup(BitsPerSample))\n",
    "print('')\n",
    "\n",
    "PhotometricInterpretation = 262  # bitonal metric\n",
    "print(PhotometricInterpretation, TiffTags.lookup(PhotometricInterpretation))\n",
    "print('')\n",
    "\n",
    "DocumentName = 269\n",
    "print(DocumentName, TiffTags.lookup(DocumentName))\n",
    "print('')"
   ]
  },
  {
   "cell_type": "markdown",
   "metadata": {},
   "source": [
    "# bitonal_df ToDo\n",
    "## need to verify/check bitonal resolution\n",
    "\n",
    "and make sure everything is saved with Group4 Compression"
   ]
  },
  {
   "cell_type": "code",
   "execution_count": null,
   "metadata": {
    "code_folding": []
   },
   "outputs": [],
   "source": [
    "# invert image with numpy then change TIFF Tag value with ExifTool\n",
    "\n",
    "# convert black-is-min TIFFs to white-is-min\n",
    "min_is_black_df = bitonal_df[bitonal_df['EXIF:PhotometricInterpretation'] == 1]\n",
    "\n",
    "for image in min_is_black_df['SourceFile']:\n",
    "    image_path = Path(image)\n",
    "    logging.info(f'Image: {image_path.name}')\n",
    "    photometric_interpretation = !magick {image_path} -format \"%[tiff:photometric]\" info:\n",
    "    logging.info(f'Before: {photometric_interpretation}')\n",
    "    image_array_inverted = np.invert(np.array(Image.open(image_path)))\n",
    "    image_inverted = Image.fromarray(image_array_inverted)\n",
    "    image_inverted.save(image_path, compression='group4', dpi=(600., 600.))\n",
    "    !exiftool -n -PhotometricInterpretation=0 -overwrite_original_in_place {image_path}\n",
    "    photometric_interpretation = !magick {image_path} -format \"%[tiff:photometric]\" info:\n",
    "    logging.info(f'After: {photometric_interpretation}')"
   ]
  },
  {
   "cell_type": "code",
   "execution_count": null,
   "metadata": {
    "code_folding": []
   },
   "outputs": [],
   "source": [
    "# processing using ImageMagick\n",
    "min_is_black_df = bitonal_df[bitonal_df['EXIF:PhotometricInterpretation'] == 1]\n",
    "for image in min_is_black_df['SourceFile']:\n",
    "    print(image)\n",
    "    photo_interp_before = !magick {image}  -format \"%[tiff:photometric]\" info:\n",
    "    print(photo_interp_before)\n",
    "    image_path = Path(image)\n",
    "    new_name = image_path.stem + '_test.tif'\n",
    "    !magick {image} -strip -define quantum:polarity=min-is-white {new_name}\n",
    "    photo_interp_after = !magick {new_name}  -format \"%[tiff:photometric]\" info:\n",
    "    print(photo_interp_after)\n",
    "    "
   ]
  },
  {
   "cell_type": "code",
   "execution_count": null,
   "metadata": {},
   "outputs": [],
   "source": [
    "photo_interp_before = !magick {image}  -format \"%[tiff:photometric]\" info:"
   ]
  },
  {
   "cell_type": "code",
   "execution_count": null,
   "metadata": {
    "code_folding": []
   },
   "outputs": [],
   "source": [
    "image_list = sorted(Path.cwd().glob('*_test.tif'))\n",
    "for image in image_list:\n",
    "    !magick {str(image)}  -format \"%[tiff:photometric]\" info\n",
    "    print('')"
   ]
  },
  {
   "cell_type": "code",
   "execution_count": null,
   "metadata": {
    "code_folding": []
   },
   "outputs": [],
   "source": [
    "image_list = sorted(Path.cwd().glob('*_test.tif'))\n",
    "for image in image_list:\n",
    "    !magick {str(image)}  -format \"%[tiff:photometric]\" info:"
   ]
  },
  {
   "cell_type": "code",
   "execution_count": null,
   "metadata": {
    "code_folding": []
   },
   "outputs": [],
   "source": [
    "for image in bitonal_df['SourceFile']:\n",
    "    !magick {image}  -format \"%[tiff:photometric]\" info:"
   ]
  },
  {
   "cell_type": "code",
   "execution_count": 90,
   "metadata": {
    "code_folding": [],
    "scrolled": true
   },
   "outputs": [
    {
     "name": "stdout",
     "output_type": "stream",
     "text": [
      "Original Bitonal Image: ['min-is-black']\n",
      "Inverted with numpy and saved with Pillow: ['min-is-black']\n",
      "    1 image files updated\n",
      "Test change metadata with ExifTool: ['min-is-white']\n"
     ]
    },
    {
     "data": {
      "image/png": "[encoded data removed]",
      "text/plain": [
       "<Figure size 432x288 with 2 Axes>"
      ]
     },
     "metadata": {
      "image/png": {
       "height": 252,
       "width": 355
      },
      "needs_background": "light"
     },
     "output_type": "display_data"
    }
   ],
   "source": [
    "# test inverting black-is-min image with Pillow then just change EXIF tag for \n",
    "# Photometric_Interpretation to white-is-min since Pillow does not have\n",
    "# the capability to save with this setting because black-is-min (value of 1)\n",
    "# is hard-coded into the Pillow Sourcecode!\n",
    "\n",
    "test_bitonal_image_path = bitonal_df['SourceFile'][1]\n",
    "photometric_interpretation = !magick {test_bitonal_image_path} -format \"%[tiff:photometric]\" info:\n",
    "print(f'Original Bitonal Image: {photometric_interpretation}')\n",
    "image_array = np.array(Image.open(test_bitonal_image_path))\n",
    "image = Image.fromarray(image_array)\n",
    "image_array_inverted = np.invert(image_array)\n",
    "image_inverted = Image.fromarray(image_array_inverted)\n",
    "    f, axarr = plt.subplots(1, 2, sharey=True)\n",
    "    axarr[0].imshow(image)\n",
    "    axarr[1].imshow(image_inverted)\n",
    "image_inverted.save('test.tif', compression='group4', dpi=(600., 600.))\n",
    "photometric_interpretation = !magick {'test.tif'} -format \"%[tiff:photometric]\" info:\n",
    "print(f'Inverted with numpy and saved with Pillow: {photometric_interpretation}')\n",
    "!exiftool -n -PhotometricInterpretation=0 test.tif\n",
    "photometric_interpretation = !magick {'test.tif'} -format \"%[tiff:photometric]\" info:\n",
    "print(f'Test change metadata with ExifTool: {photometric_interpretation}')"
   ]
  },
  {
   "cell_type": "code",
   "execution_count": 93,
   "metadata": {},
   "outputs": [
    {
     "name": "stdout",
     "output_type": "stream",
     "text": [
      "{'compression': 'group4', 'dpi': (600.0, 600.0)}\n"
     ]
    },
    {
     "data": {
      "text/plain": [
       "<matplotlib.image.AxesImage at 0x142e87e80>"
      ]
     },
     "execution_count": 93,
     "metadata": {},
     "output_type": "execute_result"
    },
    {
     "data": {
      "image/png": "[encoded data removed]",
      "text/plain": [
       "<Figure size 432x288 with 1 Axes>"
      ]
     },
     "metadata": {
      "image/png": {
       "height": 252,
       "width": 173
      },
      "needs_background": "light"
     },
     "output_type": "display_data"
    }
   ],
   "source": [
    "image_test = Image.open('test.tif')\n",
    "print(image_test.info)\n",
    "plt.imshow(image_test)"
   ]
  },
  {
   "cell_type": "code",
   "execution_count": 94,
   "metadata": {
    "scrolled": true
   },
   "outputs": [
    {
     "name": "stdout",
     "output_type": "stream",
     "text": [
      "[ExifTool]      ExifToolVersion                 : 10.93\r\n",
      "[System]        FileName                        : 00000002.tif\r\n",
      "[System]        Directory                       : data/000000000001\r\n",
      "[System]        FileSize                        : 1232 bytes\r\n",
      "[System]        FileModifyDate                  : 2018:08:02 12:23:16-05:00\r\n",
      "[System]        FileAccessDate                  : 2019:01:01 11:51:56-06:00\r\n",
      "[System]        FileInodeChangeDate             : 2019:01:01 11:47:59-06:00\r\n",
      "[System]        FilePermissions                 : rwxrwx---\r\n",
      "[File]          FileType                        : TIFF\r\n",
      "[File]          FileTypeExtension               : tif\r\n",
      "[File]          MIMEType                        : image/tiff\r\n",
      "[File]          ExifByteOrder                   : Little-endian (Intel, II)\r\n",
      "[IFD0]          ImageWidth                      : 2400\r\n",
      "[IFD0]          ImageHeight                     : 4200\r\n",
      "[IFD0]          BitsPerSample                   : 1\r\n",
      "[IFD0]          Compression                     : T6/Group 4 Fax\r\n",
      "[IFD0]          PhotometricInterpretation       : BlackIsZero\r\n",
      "[IFD0]          StripOffsets                    : 8\r\n",
      "[IFD0]          RowsPerStrip                    : 4200\r\n",
      "[IFD0]          StripByteCounts                 : 1058\r\n",
      "[IFD0]          XResolution                     : 600\r\n",
      "[IFD0]          YResolution                     : 600\r\n",
      "[IFD0]          PlanarConfiguration             : Chunky\r\n",
      "[IFD0]          ResolutionUnit                  : inches\r\n",
      "[Composite]     ImageSize                       : 2400x4200\r\n",
      "[Composite]     Megapixels                      : 10.1\r\n"
     ]
    }
   ],
   "source": [
    "!exiftool -a -G1 -s {test_bitonal_image_path}"
   ]
  },
  {
   "cell_type": "code",
   "execution_count": 99,
   "metadata": {},
   "outputs": [
    {
     "name": "stdout",
     "output_type": "stream",
     "text": [
      "[ExifTool]      ExifToolVersion                 : 10.93\r\n",
      "[System]        FileName                        : test.tif\r\n",
      "[System]        Directory                       : .\r\n",
      "[System]        FileSize                        : 702 bytes\r\n",
      "[System]        FileModifyDate                  : 2019:01:01 11:51:36-06:00\r\n",
      "[System]        FileAccessDate                  : 2019:01:01 11:52:38-06:00\r\n",
      "[System]        FileInodeChangeDate             : 2019:01:01 11:51:36-06:00\r\n",
      "[System]        FilePermissions                 : rw-r--r--\r\n",
      "[File]          FileType                        : TIFF\r\n",
      "[File]          FileTypeExtension               : tif\r\n",
      "[File]          MIMEType                        : image/tiff\r\n",
      "[File]          ExifByteOrder                   : Little-endian (Intel, II)\r\n",
      "[IFD0]          ImageWidth                      : 2400\r\n",
      "[IFD0]          ImageHeight                     : 4200\r\n",
      "[IFD0]          BitsPerSample                   : 1\r\n",
      "[IFD0]          Compression                     : T6/Group 4 Fax\r\n",
      "[IFD0]          PhotometricInterpretation       : WhiteIsZero\r\n",
      "[IFD0]          StripOffsets                    : 174\r\n",
      "[IFD0]          RowsPerStrip                    : 4200\r\n",
      "[IFD0]          StripByteCounts                 : 528\r\n",
      "[IFD0]          XResolution                     : 600\r\n",
      "[IFD0]          YResolution                     : 600\r\n",
      "[IFD0]          PlanarConfiguration             : Chunky\r\n",
      "[IFD0]          ResolutionUnit                  : inches\r\n",
      "[Composite]     ImageSize                       : 2400x4200\r\n",
      "[Composite]     Megapixels                      : 10.1\r\n"
     ]
    }
   ],
   "source": [
    "!exiftool -a -G1 -s test.tif"
   ]
  },
  {
   "cell_type": "code",
   "execution_count": null,
   "metadata": {},
   "outputs": [],
   "source": [
    "stub = 'BOR-Reports_Minute-Book-67_'\n",
    "number_of_images = 60\n",
    "for number in range(number_of_images):\n",
    "    number += 1  # start renumbering names with 1, not 0!\n",
    "    if number % 2 == 0:  # only process odd numbers\n",
    "        new_filename = stub + str(number).zfill(4) + '.tif'\n",
    "        new_path = Path(image_directory).parents[0].joinpath(new_filename)\n",
    "        print(new_path)"
   ]
  },
  {
   "cell_type": "markdown",
   "metadata": {},
   "source": [
    "# Contone ToDo\n",
    "## Need to verify contone images then process into JPEG2000"
   ]
  },
  {
   "cell_type": "code",
   "execution_count": 45,
   "metadata": {},
   "outputs": [],
   "source": [
    "# TODO:\n",
    "\n",
    "# Process grayscale and color separately\n",
    "# split into grayscale/color\n",
    "\n",
    "# need to verify: resolution "
   ]
  },
  {
   "cell_type": "markdown",
   "metadata": {},
   "source": [
    "# Tesseract OCR and hOCR creation (then convert hOCR to XML)"
   ]
  },
  {
   "cell_type": "code",
   "execution_count": null,
   "metadata": {},
   "outputs": [],
   "source": [
    "# get ocr .hocr\n",
    "!tesseract {str(image_path)} {str(text_output)} -l eng+spa hocr  # add hocr to end for location"
   ]
  },
  {
   "cell_type": "code",
   "execution_count": null,
   "metadata": {},
   "outputs": [],
   "source": [
    "# get ocr .hocr\n",
    "!tesseract {str(image_path)} {str(text_output)} -l eng+spa hocr  # add hocr to end for location"
   ]
  },
  {
   "cell_type": "code",
   "execution_count": null,
   "metadata": {},
   "outputs": [],
   "source": [
    "# convert .hocr to .xml\n",
    "hocr_path = Path(str(text_output) + '.hocr')\n",
    "xml_path = Path(str(text_output) + '.xml')\n",
    "hocr_path.rename(xml_path)"
   ]
  },
  {
   "cell_type": "code",
   "execution_count": null,
   "metadata": {},
   "outputs": [],
   "source": [
    "# conversion to OOP\n",
    "\n",
    "class HathiTrust_Volume:\n",
    "    \n",
    "    '''Common base class for all Hathi Trust Volumes'''\n",
    "    \n",
    "    def __init__(self, image_directory, object_id):\n",
    "        self.image_directory_path = Path(image_directory)\n",
    "        self.object_id = object_id\n",
    "        \n",
    "        \n",
    "    def get_image_paths(self, with_extension):\n",
    "        \n",
    "        \n",
    "        \n",
    "        image_paths_list = sorted(self.image_directory_path.glob('*.tif'))  # only works with .tif images\n",
    "        \n",
    "        \n",
    "    def report(self):\n",
    "        '''\n",
    "        Reports back with known list of errors and remediation suggestions\n",
    "        '''\n",
    "        error_list = []\n",
    "        if self.image_directory_path.name != str(object_id):\n",
    "            error_list.append('1. directory name and object ID do NOT match: MUST remediate')\n",
    "        \n",
    "            \n",
    "        print(error_list)\n",
    "            \n",
    "image_directory = 'data/Reavis_Without_Documents/'\n",
    "ht_volume = HathiTrust_Volume(image_directory, object_id)\n",
    "ht_volume.report()    "
   ]
  }
 ],
 "metadata": {
  "kernelspec": {
   "display_name": "Python 3",
   "language": "python",
   "name": "python3"
  },
  "language_info": {
   "codemirror_mode": {
    "name": "ipython",
    "version": 3
   },
   "file_extension": ".py",
   "mimetype": "text/x-python",
   "name": "python",
   "nbconvert_exporter": "python",
   "pygments_lexer": "ipython3",
   "version": "3.7.2"
  },
  "varInspector": {
   "cols": {
    "lenName": 16,
    "lenType": 16,
    "lenVar": 40
   },
   "kernels_config": {
    "python": {
     "delete_cmd_postfix": "",
     "delete_cmd_prefix": "del ",
     "library": "var_list.py",
     "varRefreshCmd": "print(var_dic_list())"
    },
    "r": {
     "delete_cmd_postfix": ") ",
     "delete_cmd_prefix": "rm(",
     "library": "var_list.r",
     "varRefreshCmd": "cat(var_dic_list()) "
    }
   },
   "types_to_exclude": [
    "module",
    "function",
    "builtin_function_or_method",
    "instance",
    "_Feature"
   ],
   "window_display": false
  }
 },
 "nbformat": 4,
 "nbformat_minor": 2
}
